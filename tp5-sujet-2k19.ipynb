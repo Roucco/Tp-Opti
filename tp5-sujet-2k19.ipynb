{
 "cells": [
  {
   "cell_type": "markdown",
   "metadata": {
    "deletable": false
   },
   "source": [
    "***\n",
    "**Algorithmes d'optimisation -- L3 MINT et doubles licences 2017/2018 -- Université Paris-Sud**\n",
    "***\n",
    "\n",
    "$\\newcommand{\\Rsp}{\\mathbb{R}}\n",
    "\\newcommand{\\nr}[1]{\\|#1\\|}\n",
    "\\newcommand{\\abs}[1]{|#1|}\n",
    "\\newcommand{\\eps}{\\varepsilon}\n",
    "\\newcommand{\\sca}[2]{\\langle#1|#2\\rangle}\n",
    "\\newcommand{\\D}{\\mathrm{D}}\n",
    "\\newcommand{\\hdots}{\\dots}\n",
    "\\newcommand{\\cond}{\\mathrm{cond}}$\n",
    "\n",
    "# TP 5: Projection, débruitage et algorithme d'Uzawa\n",
    "\n",
    "## Partie I: Étude et mise en oeuvre de l'algorithme d'Uzawa\n",
    "\n",
    "Dans ce TP, on cherche à appliquer l'algorithme d'Uzawa au calcul de la projection d'un point $p\\in \\Rsp^d$ sur un convexe $K$ défini par des inégalités affines. Dans la suite, on note $x\\leq y$ où $x,y$ sont deux vecteurs si $\\forall i, x_i\\leq y_i$.\n",
    " \n",
    "- On considère $K = \\{ x \\in \\Rsp^d\\mid Ax \\leq b\\}$, où $A$ est une matrice possédant $k$ lignes notées $a_1,\\hdots,a_k \\in \\Rsp^d$ et $b\\in\\Rsp^k$. De manière équivalente,\n",
    "$$ K = \\{ x\\in \\Rsp^d \\mid \\forall 1\\leq i\\leq k, c_i(x) \\leq 0 \\} $$\n",
    "où $c_i(x) := \\sca{a_i}{x} - b_i \\leq 0$.\n",
    " On s'intéresse au problème de projection d'un point $p \\in \\Rsp^d$ sur $K$:\n",
    "$$ (P) := \\min_{x\\in K} \\frac{1}{2} \\nr{x - p}^2 $$\n",
    "- Le lagrangien $\\ell$ du problème (P) est donné par\n",
    "$\\ell: (x,\\lambda)\\in\\Rsp^d\\times \\Rsp^k_+ \\mapsto f(x) + \\sum_{1\\leq i\\leq k} \\lambda_i c_i(x)$\n",
    "et le problème dual associé à (P) est donc\n",
    "$$ (D) := \\max_{\\lambda \\in \\Rsp^k_+} \\min_{x\\in \\Rsp^d} \\ell(x,\\lambda) $$\n",
    "- On rappelle que si $\\lambda^*$ est un maximiseur de (D), alors tout solution du problème de minimisation *sans contrainte* $(P_{\\lambda^*}) = \\min_{x\\in\\Rsp^d} \\ell(x,\\lambda^*)$ est aussi solution du problème (P). En d'autre terme, la connaissance de $\\lambda^*$ permet de remplacer un problème d'optimisation avec contraintes $(P)$ par un problème d'optimisation sans contrainte $(P_{\\lambda^*})$ !\n",
    "\n",
    "Nous allons étudier dans cette partie l'algorithme d'Uzawa. L'idée est de calculer un maximiseur $\\lambda^*$ du problème dual (D) par une méthode de gradient projeté, et de s'en servir pour calculer la solution de (P) en utilisant le dernier rappel. \n",
    "\n",
    "**Q1) [Expression du problème dual]** Dans cette question, il s'agit d'écrire le problème dual de manière plus explicite.\n",
    "\n",
    "- Montrer que le lagrangien associé au problème (P) peut s'écrire $\\ell(x,\\lambda) = \\frac{1}{2}\\nr{x - p}^2  + \\sca{\\lambda}{A x - b}$.\n",
    "- Étant donné $\\lambda \\in \\Rsp^k$, donner l'expression de l'unique solution $x_\\lambda$ du problème de minimisation $\\min_{x \\in \\Rsp^d} \\ell(x,\\lambda).$ \n",
    "- En déduire que \n",
    "$$\\begin{aligned}\n",
    "&\\qquad (D) := \\max_{\\lambda \\in\\Rsp_+^k} -h(\\lambda) \\\\\n",
    "&\\hbox{ où } h(\\lambda) =  \\frac{1}{2} \\nr{A^T \\lambda - p}^2 - \\frac{1}{2}\\nr{p}^2 + \\sca{\\lambda}{b} \n",
    "\\end{aligned}$$\n",
    "- Montrer que $\\nabla h(\\lambda) = A(A^T \\lambda - p) + b = b - A x_\\lambda$.\n",
    "\n",
    "\n",
    "\n",
    "> **Algorithme d'Uzawa:** on appelle ainsi l'algorithme du gradient projeté pour le problème dual (D):\n",
    "$$ \\begin{cases}\n",
    "\\lambda^{(0)} = 0 \\in \\Rsp^k \\\\\n",
    "g^{(k)} = \\nabla h(\\lambda^{(k)})\\\\\n",
    "\\lambda^{(k+1)} = p_{\\Rsp_+^k}(\\lambda^{(k)} - \\tau g^{(k)})\\\\\n",
    "x^{(k+1)} = p - A^T \\lambda^{(k+1)} \\quad (\\in \\arg\\min_{x\\in\\Rsp^d} \\ell(x,\\lambda^{(k+1)}))\n",
    "\\end{cases}\n",
    "$$\n",
    "L'algorithme est arrêté lorsque $\\nr{x^{(k)} - x^{(k+1)}}\\leq \\eps$.\n",
    "\n",
    "Pour l'implémentation de l'algorithme, on rappelle que $p_{\\Rsp_+^k}(v) = (\\max(v_1,0),\\hdots,\\max(v_k,0))$.\n",
    "\n",
    "\n",
    "**Q2) [Convergence de l'algorithme d'Uzawa]** On pose  $S_\\tau(\\lambda) := p_{\\Rsp_+^k}(\\lambda - \\tau \\nabla h(\\lambda))$, de sorte que $\\lambda^{(k+1)} = S_\\tau(\\lambda^{(k)})$. \n",
    "- Montrer que la fonction $h$ est convexe.\n",
    "- En déduire que si $\\lambda^*$ est un point fixe de $S_\\tau$, alors $\\lambda^*$ est solution du problème (D) (i.e. maximise $h$ sur $\\Rsp_+^k$).\n",
    "\n",
    "\n",
    "Ainsi, si la suite $(\\lambda^{(k)})$ converge, sa limite est un maximiseur $\\lambda^*$ de (D) et $x_{\\lambda^*} = x^*$ est un minimiseur de (P).\n",
    "\n",
    "\n",
    "**Q4) [Mise en oeuvre]** Mettre en oeuvre l'algorithme d'Uzawa.\n",
    "* Écrire une une fonction `projection_convexe(A,b,p,tau,err=1e-6)` calculant les itérées de $(\\lambda^{(k)}, x^{(k)})$, en arrêtant la boucle dès que $\\nr{x^{(k)}- x^{(k+1)}} \\leq$ `err`. \n",
    "Cette fonction retournera $\\lambda^{(k)}, x^{(k)}$.\n",
    "* Tester cette fonction sur le convexe $K = \\{ x \\in \\Rsp^2\\mid \\nr{x}_1 \\leq 1 \\}$. On commencera par déterminer $A,b$ tel que $K = \\{x \\mid Ax \\leq b \\}$. On vérifiera la validité du calcul de deux manières:\n",
    "  - visuellement, en affichant le segment reliant p à son projeté q = `projection_convexe(A,b,p,tau)`, pour un assez grand nombre (100) de points p choisis aléatoirement dans $[-4,4]^2$.\n",
    "  - en vérifiant que la solution $x,\\lambda$ = projection_convexe(A,b,p,tau) satisfait (à erreur numérique près) les quatre conditions du théorème de Karush-Kuhn-Tucker: $Ax \\leq b$ *(admissibilité de $x$)*, $\\lambda \\geq 0$ *(admissibilité de $\\lambda$)*, $\\forall i, (A x - b)_i \\lambda_i = 0$ *(complémentarité)* et $\\nabla_x \\ell(x,\\lambda) = 0$ *(optimalité)*.\n",
    "* Recommence avec $K = \\{ x \\in\\Rsp^2 \\mid \\nr{x}_\\infty \\leq 1 \\}$.\n",
    "\n",
    "\n"
   ]
  },
  {
   "cell_type": "code",
   "execution_count": 1,
   "metadata": {},
   "outputs": [
    {
     "ename": "NameError",
     "evalue": "name 'np' is not defined",
     "output_type": "error",
     "traceback": [
      "\u001b[0;31m---------------------------------------------------------------------------\u001b[0m",
      "\u001b[0;31mNameError\u001b[0m                                 Traceback (most recent call last)",
      "\u001b[0;32m<ipython-input-1-f300feb96e35>\u001b[0m in \u001b[0;36m<module>\u001b[0;34m()\u001b[0m\n\u001b[0;32m----> 1\u001b[0;31m \u001b[0mA\u001b[0m\u001b[0;34m=\u001b[0m\u001b[0mnp\u001b[0m\u001b[0;34m.\u001b[0m\u001b[0marray\u001b[0m\u001b[0;34m(\u001b[0m\u001b[0;34m[\u001b[0m\u001b[0;34m[\u001b[0m\u001b[0;36m0\u001b[0m\u001b[0;34m,\u001b[0m\u001b[0;36m1\u001b[0m\u001b[0;34m]\u001b[0m\u001b[0;34m,\u001b[0m\u001b[0;34m[\u001b[0m\u001b[0;36m0\u001b[0m\u001b[0;34m,\u001b[0m\u001b[0;34m-\u001b[0m\u001b[0;36m1\u001b[0m\u001b[0;34m]\u001b[0m\u001b[0;34m,\u001b[0m\u001b[0;34m[\u001b[0m\u001b[0;36m1\u001b[0m\u001b[0;34m,\u001b[0m\u001b[0;36m0\u001b[0m\u001b[0;34m]\u001b[0m\u001b[0;34m,\u001b[0m\u001b[0;34m[\u001b[0m\u001b[0;34m-\u001b[0m\u001b[0;36m1\u001b[0m\u001b[0;34m,\u001b[0m\u001b[0;36m0\u001b[0m\u001b[0;34m]\u001b[0m\u001b[0;34m]\u001b[0m\u001b[0;34m)\u001b[0m\u001b[0;34m\u001b[0m\u001b[0m\n\u001b[0m\u001b[1;32m      2\u001b[0m \u001b[0mb\u001b[0m \u001b[0;34m=\u001b[0m \u001b[0mnp\u001b[0m\u001b[0;34m.\u001b[0m\u001b[0mones\u001b[0m\u001b[0;34m(\u001b[0m\u001b[0;36m4\u001b[0m\u001b[0;34m)\u001b[0m\u001b[0;34m\u001b[0m\u001b[0m\n\u001b[1;32m      3\u001b[0m \u001b[0mb\u001b[0m\u001b[0;34m=\u001b[0m\u001b[0mb\u001b[0m\u001b[0;34m.\u001b[0m\u001b[0mT\u001b[0m\u001b[0;34m\u001b[0m\u001b[0m\n\u001b[1;32m      4\u001b[0m \u001b[0mprint\u001b[0m\u001b[0;34m(\u001b[0m\u001b[0mb\u001b[0m\u001b[0;34m)\u001b[0m\u001b[0;34m\u001b[0m\u001b[0m\n",
      "\u001b[0;31mNameError\u001b[0m: name 'np' is not defined"
     ]
    }
   ],
   "source": [
    "A=np.array([[0,1],[0,-1],[1,0],[-1,0]])\n",
    "b = np.ones(4)\n",
    "b=b.T\n",
    "print(b)\n"
   ]
  },
  {
   "cell_type": "code",
   "execution_count": 2,
   "metadata": {},
   "outputs": [],
   "source": [
    "import numpy as np\n",
    "import matplotlib.pyplot as plt\n",
    "%matplotlib inline\n",
    "# la commande suivante agrandit les figures\n",
    "plt.rcParams['figure.figsize'] = [9.,6.]\n",
    "\n",
    "def projection_convexe(A,b,x0,tau,err=1e-6):\n",
    "    ld = np.zeros(len(b))\n",
    "    x = x0 - np.dot(A.T,ld)\n",
    "    for i in range(100):\n",
    "        g = b - np.dot(A,x)\n",
    "        ld = np.maximum(ld - tau*g,0)\n",
    "        xnew = x0 - np.dot(A.T,ld)\n",
    "        if np.linalg.norm(x - xnew) <= err:\n",
    "            break\n",
    "        x = xnew\n",
    "    return x,ld\n"
   ]
  },
  {
   "cell_type": "code",
   "execution_count": 6,
   "metadata": {},
   "outputs": [
    {
     "name": "stdout",
     "output_type": "stream",
     "text": [
      "[ 3.60125333 -3.77717496]\n"
     ]
    }
   ],
   "source": [
    "x0 = 8 * np.random.random_sample((2,)) -4\n",
    "\n",
    "print(x0)\n",
    "\n",
    "x,λ = projection_convexe(A,b,x0,tau=0.1)"
   ]
  },
  {
   "cell_type": "code",
   "execution_count": 7,
   "metadata": {},
   "outputs": [
    {
     "data": {
      "image/png": "[encoded data removed]",
      "text/plain": [
       "<Figure size 432x288 with 1 Axes>"
      ]
     },
     "metadata": {},
     "output_type": "display_data"
    }
   ],
   "source": [
    "A = np.array([[0,1], [0,-1], [1,0], [-1,0]])\n",
    "b = np.array([1,1,1,1])\n",
    "\n",
    "A = np.array([[1,1], [1,-1], [-1,1], [-1,-1]])\n",
    "b = np.array([1,1,1,1])\n",
    "\n",
    "#t = np.linspace(0,2*np.pi,10)[:-1]\n",
    "#A = np.array([np.cos(t), np.sin(t)]).T\n",
    "#b = np.ones(9)\n",
    "\n",
    "for i in range(100):\n",
    "    x0 = 4*(np.random.rand(2)-.5)\n",
    "    x,ld = projection_convexe(A,b,x0,tau=0.1)\n",
    "            \n",
    "    plt.plot([x0[0],x[0]], [x0[1],x[1]],)\n",
    "    plt.axis('equal')\n"
   ]
  },
  {
   "cell_type": "markdown",
   "metadata": {
    "deletable": false
   },
   "source": [
    "## Partie II: Régression isotone\n",
    "\n",
    "Nous allons considérer deux problèmes de débruitage consistant simplement à projeter sur un convexe. Les données sont par exemple des séries temporelles $y = (y_1,\\hdots,y_n)\\in \\Rsp^n$, mesurées avec un bruit. On sait que les données réelles appartiennent à un certain ensemble convexe $K$ de $\\Rsp^n$. Deux exemples\n",
    "\n",
    "- régression isotone: $K = \\{ x\\in \\Rsp^n \\mid \\forall 1\\leq i < n,~x_{i+1}\\geq x_i \\}$\n",
    "- régression convexe: $K = \\{ x\\in \\Rsp^n \\mid \\forall 1 < i < n,~x_{i} \\leq \\frac{1}{2} (x_{i-1} + x_{i+1}) \\}$.\n",
    "\n",
    "À cause du bruit, le vecteur $y$ mesuré n'appartient pas à l'ensemble $K$. L'idée est simplement de débruiter le signal en le projetant sur $K$, soit:\n",
    "\n",
    "$$ (P) := \\min_{x\\in K} \\frac{1}{2} \\nr{x - p}^2 $$\n",
    "\n",
    "**Q1)** Implémenter la régression isotone.\n",
    "- Trouver une matrice $A$ et un vecteur $b$ tel que $K_{iso} = \\{ x\\in \\Rsp^n \\mid Ax \\leq b \\}$.\n",
    "- Utiliser projection_convexe() avec tau=0.1 et avec le vecteur $p$ donné ci-dessous.\n",
    "- Que peut-on dire expérimentalement de la solution $x^*$ aux points $\\{i,i+1\\}$ où $y_{i}\\geq y_{i+1}$ ? \n",
    "- Démontrer ce résultat en utilisant les conditions du théorème KKT."
   ]
  },
  {
   "cell_type": "code",
   "execution_count": 31,
   "metadata": {},
   "outputs": [
    {
     "data": {
      "text/plain": [
       "<matplotlib.legend.Legend at 0x7f3708c23fd0>"
      ]
     },
     "execution_count": 31,
     "metadata": {},
     "output_type": "execute_result"
    },
    {
     "data": {
      "image/png": "[encoded data removed]",
      "text/plain": [
       "<Figure size 432x288 with 1 Axes>"
      ]
     },
     "metadata": {},
     "output_type": "display_data"
    }
   ],
   "source": [
    "n = 30\n",
    "t = np.linspace(0,1,n)\n",
    "p = t**2 + .3*np.random.rand(n)\n",
    "\n",
    "A = - np.eye(n,n) + np.eye(n,n,-1)\n",
    "A = A[1:,:]\n",
    "k = A.shape[0]\n",
    "b = np.zeros(k)\n",
    "\n",
    "tau = .5\n",
    "\n",
    "x,ld = projection_convexe(A,b,p,tau,err=1e-6)\n",
    "plt.plot(t,x,label=\"projection convexe\")\n",
    "plt.plot(t,p,label=\"Vraie\")\n",
    "plt.legend()\n",
    "\n"
   ]
  },
  {
   "cell_type": "markdown",
   "metadata": {
    "deletable": false
   },
   "source": [
    "**Q2)** Implémenter la régression convexe en utilisant projection_convexe() avec tau=0.1 et avec le vecteur $p$ donné ci-dessous. "
   ]
  },
  {
   "cell_type": "code",
   "execution_count": 30,
   "metadata": {},
   "outputs": [
    {
     "ename": "ValueError",
     "evalue": "operands could not be broadcast together with shapes (10,) (30,) ",
     "output_type": "error",
     "traceback": [
      "\u001b[0;31m---------------------------------------------------------------------------\u001b[0m",
      "\u001b[0;31mValueError\u001b[0m                                Traceback (most recent call last)",
      "\u001b[0;32m<ipython-input-30-5f50262cd98a>\u001b[0m in \u001b[0;36m<module>\u001b[0;34m()\u001b[0m\n\u001b[1;32m     10\u001b[0m \u001b[0mb\u001b[0m \u001b[0;34m=\u001b[0m \u001b[0mnp\u001b[0m\u001b[0;34m.\u001b[0m\u001b[0mzeros\u001b[0m\u001b[0;34m(\u001b[0m\u001b[0mk\u001b[0m\u001b[0;34m)\u001b[0m\u001b[0;34m\u001b[0m\u001b[0m\n\u001b[1;32m     11\u001b[0m \u001b[0;34m\u001b[0m\u001b[0m\n\u001b[0;32m---> 12\u001b[0;31m \u001b[0mx\u001b[0m\u001b[0;34m,\u001b[0m\u001b[0mld\u001b[0m \u001b[0;34m=\u001b[0m \u001b[0mprojection_convexe\u001b[0m\u001b[0;34m(\u001b[0m\u001b[0mA\u001b[0m\u001b[0;34m,\u001b[0m\u001b[0mb\u001b[0m\u001b[0;34m,\u001b[0m\u001b[0my\u001b[0m\u001b[0;34m,\u001b[0m\u001b[0mtau\u001b[0m\u001b[0;34m=\u001b[0m\u001b[0;36m0.1\u001b[0m\u001b[0;34m,\u001b[0m\u001b[0merr\u001b[0m\u001b[0;34m=\u001b[0m\u001b[0;36m1e-6\u001b[0m\u001b[0;34m)\u001b[0m\u001b[0;34m\u001b[0m\u001b[0m\n\u001b[0m\u001b[1;32m     13\u001b[0m \u001b[0mplt\u001b[0m\u001b[0;34m.\u001b[0m\u001b[0mplot\u001b[0m\u001b[0;34m(\u001b[0m\u001b[0mt\u001b[0m\u001b[0;34m,\u001b[0m\u001b[0mp\u001b[0m\u001b[0;34m,\u001b[0m\u001b[0mlabel\u001b[0m\u001b[0;34m=\u001b[0m\u001b[0;34m'mesure'\u001b[0m\u001b[0;34m)\u001b[0m\u001b[0;34m\u001b[0m\u001b[0m\n\u001b[1;32m     14\u001b[0m \u001b[0mplt\u001b[0m\u001b[0;34m.\u001b[0m\u001b[0mplot\u001b[0m\u001b[0;34m(\u001b[0m\u001b[0mt\u001b[0m\u001b[0;34m,\u001b[0m\u001b[0mx\u001b[0m\u001b[0;34m,\u001b[0m\u001b[0mlabel\u001b[0m\u001b[0;34m=\u001b[0m\u001b[0;34m'projection convexe'\u001b[0m\u001b[0;34m)\u001b[0m\u001b[0;34m\u001b[0m\u001b[0m\n",
      "\u001b[0;32m<ipython-input-2-6ddd9f6274df>\u001b[0m in \u001b[0;36mprojection_convexe\u001b[0;34m(A, b, x0, tau, err)\u001b[0m\n\u001b[1;32m      7\u001b[0m \u001b[0;32mdef\u001b[0m \u001b[0mprojection_convexe\u001b[0m\u001b[0;34m(\u001b[0m\u001b[0mA\u001b[0m\u001b[0;34m,\u001b[0m\u001b[0mb\u001b[0m\u001b[0;34m,\u001b[0m\u001b[0mx0\u001b[0m\u001b[0;34m,\u001b[0m\u001b[0mtau\u001b[0m\u001b[0;34m,\u001b[0m\u001b[0merr\u001b[0m\u001b[0;34m=\u001b[0m\u001b[0;36m1e-6\u001b[0m\u001b[0;34m)\u001b[0m\u001b[0;34m:\u001b[0m\u001b[0;34m\u001b[0m\u001b[0m\n\u001b[1;32m      8\u001b[0m     \u001b[0mld\u001b[0m \u001b[0;34m=\u001b[0m \u001b[0mnp\u001b[0m\u001b[0;34m.\u001b[0m\u001b[0mzeros\u001b[0m\u001b[0;34m(\u001b[0m\u001b[0mlen\u001b[0m\u001b[0;34m(\u001b[0m\u001b[0mb\u001b[0m\u001b[0;34m)\u001b[0m\u001b[0;34m)\u001b[0m\u001b[0;34m\u001b[0m\u001b[0m\n\u001b[0;32m----> 9\u001b[0;31m     \u001b[0mx\u001b[0m \u001b[0;34m=\u001b[0m \u001b[0mx0\u001b[0m \u001b[0;34m-\u001b[0m \u001b[0mnp\u001b[0m\u001b[0;34m.\u001b[0m\u001b[0mdot\u001b[0m\u001b[0;34m(\u001b[0m\u001b[0mA\u001b[0m\u001b[0;34m.\u001b[0m\u001b[0mT\u001b[0m\u001b[0;34m,\u001b[0m\u001b[0mld\u001b[0m\u001b[0;34m)\u001b[0m\u001b[0;34m\u001b[0m\u001b[0m\n\u001b[0m\u001b[1;32m     10\u001b[0m     \u001b[0;32mfor\u001b[0m \u001b[0mi\u001b[0m \u001b[0;32min\u001b[0m \u001b[0mrange\u001b[0m\u001b[0;34m(\u001b[0m\u001b[0;36m100\u001b[0m\u001b[0;34m)\u001b[0m\u001b[0;34m:\u001b[0m\u001b[0;34m\u001b[0m\u001b[0m\n\u001b[1;32m     11\u001b[0m         \u001b[0mg\u001b[0m \u001b[0;34m=\u001b[0m \u001b[0mb\u001b[0m \u001b[0;34m-\u001b[0m \u001b[0mnp\u001b[0m\u001b[0;34m.\u001b[0m\u001b[0mdot\u001b[0m\u001b[0;34m(\u001b[0m\u001b[0mA\u001b[0m\u001b[0;34m,\u001b[0m\u001b[0mx\u001b[0m\u001b[0;34m)\u001b[0m\u001b[0;34m\u001b[0m\u001b[0m\n",
      "\u001b[0;31mValueError\u001b[0m: operands could not be broadcast together with shapes (10,) (30,) "
     ]
    }
   ],
   "source": [
    "p = t**4 + .2*np.random.rand(n)\n",
    "\n"
   ]
  }
 ],
 "metadata": {
  "celltoolbar": "None",
  "kernelspec": {
   "display_name": "Python 3",
   "language": "python",
   "name": "python3"
  },
  "language_info": {
   "codemirror_mode": {
    "name": "ipython",
    "version": 3
   },
   "file_extension": ".py",
   "mimetype": "text/x-python",
   "name": "python",
   "nbconvert_exporter": "python",
   "pygments_lexer": "ipython3",
   "version": "3.6.5"
  }
 },
 "nbformat": 4,
 "nbformat_minor": 1
}
