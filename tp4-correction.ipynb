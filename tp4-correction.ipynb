{
 "cells": [
  {
   "cell_type": "markdown",
   "metadata": {
    "deletable": false,
    "editable": false
   },
   "source": [
    "***\n",
    "** Algorithmes d'optimisation -- L3 MINT et doubles licences 2017/2018 -- Université Paris-Sud **\n",
    "***\n",
    "\n",
    "$\\newcommand{\\Rsp}{\\mathbb{R}}\n",
    "\\newcommand{\\nr}[1]{\\|#1\\|}\n",
    "\\newcommand{\\abs}[1]{|#1|}\n",
    "\\newcommand{\\eps}{\\varepsilon}\n",
    "\\newcommand{\\sca}[2]{\\langle#1|#2\\rangle}\n",
    "\\newcommand{\\D}{\\mathrm{D}}\n",
    "\\newcommand{\\hdots}{\\dots}\n",
    "\\newcommand{\\cond}{\\mathrm{cond}}$\n",
    "\n",
    "On commence par importer quelques fonctions des TP précédents."
   ]
  },
  {
   "cell_type": "code",
   "execution_count": 5,
   "metadata": {},
   "outputs": [],
   "source": [
    "import numpy as np\n",
    "import matplotlib.pyplot as plt\n",
    "%matplotlib inline\n",
    "# la commande suivante agrandit les figures\n",
    "plt.rcParams['figure.figsize'] = [9.,6.]\n",
    "\n",
    "def backtrack(f,x,d,m,alpha=0.3,beta=0.5):\n",
    "    t = 1\n",
    "    while f(x+t*d) > f(x) + alpha*t*m:\n",
    "        t = beta*t\n",
    "    return t\n",
    "\n",
    "def gradient_backtracking(f,g,x0,err=1e-6,maxiter=500):\n",
    "    x = x0.copy()\n",
    "    fiter = []\n",
    "    giter = []\n",
    "    k = 0 # nombre d'itérations\n",
    "    while(True): \n",
    "        k = k+1\n",
    "        if k > maxiter: # maximum de 10^6 itérations\n",
    "            print('erreur: nombre maximum d\\'itérations atteint')\n",
    "            break\n",
    "        d = -g(x)\n",
    "        fiter.append(f(x))\n",
    "        giter.append(np.linalg.norm(d))\n",
    "        if np.linalg.norm(d) <= err:\n",
    "            break\n",
    "        t = backtrack(f,x,d,-np.linalg.norm(d)**2)\n",
    "        #if k%10==0: # on affiche des informations toute les 20 itérations\n",
    "        #    print('iteration %d: f=%f, |g|=%f, step=%f' % (k, f(x), np.linalg.norm(d),t))\n",
    "        x = x + t*d\n",
    "    return x,np.array(fiter),np.array(giter)\n",
    "\n",
    "def check_gradient(f,g,x0):\n",
    "    N = len(x0)\n",
    "    gg = np.zeros(N)\n",
    "    for i in range(N):\n",
    "        eps = 1e-4\n",
    "        e = np.zeros(N)\n",
    "        e[i] = eps\n",
    "        gg[i] = (f(x0+e) - f(x0-e))/(2*eps)\n",
    "    print('erreur numerique dans le calcul du gradient: %g (doit etre petit)' % np.linalg.norm(g(x0)-gg))"
   ]
  },
  {
   "cell_type": "markdown",
   "metadata": {
    "deletable": false,
    "editable": false
   },
   "source": [
    "# TP 4: Pénalisation et gradient projeté\n",
    "\n",
    "## Partie I: Problème d'obstacle\n",
    "\n",
    "On considère un système physique constitué d'une chaine de $N+1$ ressorts. Les deux extrémités du $i$ème ressort ($0\\leq i\\leq N$ sont les points $(t_i,x_i) \\in\\Rsp^2$ et $(t_{i+1},x_{i+1}) \\in \\Rsp^2$, où $t_i = hi$ est fixé.  On considère également que la chaine est fixée à ses extrémités: $x_0 = x_{N+1} = 0$. Il reste donc $N$ inconnues $x = (x_1,\\hdots,x_N)\\in \\Rsp^N$. L'énergie du système est donnée par la formule suivante:\n",
    "\n",
    "$$J(x) = J(x_1,\\hdots,x_N) = \\frac{1}{2}\\sum_{0\\leq i\\leq N-1} \\nr{x_{i+1} - x_i}^2 $$ \n",
    "\n",
    "où l'on a donc fixé $x_0 = x_{N+1} = 0$. On pose un obstacle sous la chaîne de ressort, qui force chacune des coordonnées $x_i$ a être minorée par une constante $f_i$ (on peut penser à une main qui pousse le ressort par exemple). On arrive dont au problème d'optimisation\n",
    "\n",
    "$$ \\min_{x\\in K} J(x) \\hbox{ où } K = \\{x\\in \\Rsp^N \\mid \\forall 1\\leq i\\leq N, x_i \\geq f_i \\}. $$\n",
    "\n",
    "Nous allons la résolution numérique de ce problème d'optimisation par la méthode de gradient projeté. On rappelle les formules suivantes, issues du TD:\n",
    "\n",
    "- La projection d'un point $y\\in\\Rsp^d$ sur le convexe fermé $K$ est donnée par \n",
    "\n",
    "$$ p_K(y) = (\\max(y_N,f_N),\\hdots,\\max(y_N,f_N)) $$\n",
    "\n",
    "- On admet que la fonction $J$ peut être mise sous la forme\n",
    "\n",
    "$$ J(x) = \\frac{1}{2} \\sca{x}{Q x}  \\hbox{ où } Q = \\begin{pmatrix}2 & -1  & 0 &\\cdots & 0 \\\\\n",
    "-1 & 2 & -1 & \\ddots & \\vdots   \\\\ \n",
    "0 & \\ddots & \\ddots & \\ddots& \\vdots \\\\\n",
    "\\vdots & \\ddots & -1 & 2 & -1 \\\\\n",
    "0 & \\hdots & 0 & -1 & 2\n",
    "\\end{pmatrix}$$\n",
    "\n",
    "Le gradient de la fonction  $J$ en $x\\in \\Rsp^N$ est alors donné par $\\nabla J(x) = Q x.$\n",
    "\n",
    "**Q1)** Écrire une fonction projK(x) retournant la projection de $x\\in \\Rsp^N$ sur $K$ (la tester avec des petites valeurs de $N$). On fixe désormais $N=30$: écrire la matrice $Q$ et deux fonctions $J(x)$ et $gradJ(x)$ calculant la valeur et le gradient de $J$. Vérifier le calcul du gradient avec check_gradient."
   ]
  },
  {
   "cell_type": "code",
   "execution_count": 6,
   "metadata": {},
   "outputs": [
    {
     "name": "stdout",
     "output_type": "stream",
     "text": [
      "erreur numerique dans le calcul du gradient: 1.00912e-11 (doit etre petit)\n"
     ]
    },
    {
     "data": {
      "image/png": "[encoded data removed]",
      "text/plain": [
       "<Figure size 648x432 with 1 Axes>"
      ]
     },
     "metadata": {},
     "output_type": "display_data"
    }
   ],
   "source": [
    "# initialiser les variables K,Q, x0, fmin\n",
    "N = 30\n",
    "T = np.linspace(0,1,N+2)[1:-1]\n",
    "F = np.exp(-50*(T-.75)**2) + np.exp(-50*(T-.25)**2)\n",
    "plt.plot(T,F,'.-g',label='obstacle')\n",
    "plt.legend()\n",
    "\n",
    "Q = 2*np.eye(N) - np.diag(np.ones(N-1),-1)- np.diag(np.ones(N-1),+1)\n",
    "def projK(x):\n",
    "    return np.maximum(x,F)\n",
    "\n",
    "def J(x):\n",
    "    return .5*np.dot(np.dot(Q,x),x)\n",
    "def gradJ(x):\n",
    "    return np.dot(Q,x)\n",
    "check_gradient(J,gradJ,np.random.rand(N))\n"
   ]
  },
  {
   "cell_type": "markdown",
   "metadata": {
    "deletable": false,
    "editable": false
   },
   "source": [
    "On rappelle que l'algorithme du gradient projeté est défini de la manière suivante:\n",
    "\n",
    "$$ \\begin{cases}\n",
    "x^{(0)} \\in \\Rsp^N\\\\\n",
    "x^{(k+1)} = p_K(x^{(k)} - \\tau \\nabla J(x^{(k)}))\n",
    "\\end{cases} $$\n",
    "\n",
    "où $\\tau>0$. On a démontré en cours que si \n",
    "\n",
    "$$ \\forall x\\in \\Rsp^M, m \\leq \\D^2 J(x) \\leq M, $$\n",
    "\n",
    "alors l'algorithme converge dès que $\\tau < 2m/M^2$, avec un taux optimal lorsque $\\tau^* = m/M^2$.\n",
    "\n",
    "**Q2)** Montrer que $\\D^2 J(x) = Q$; calculer les valeurs propres de $Q$ via la fonction np.linalg.eigvalsh. Quelle valeur de $\\tau^*$ l'estimation ci-dessus donne-t-elle ? "
   ]
  },
  {
   "cell_type": "code",
   "execution_count": 7,
   "metadata": {},
   "outputs": [
    {
     "name": "stdout",
     "output_type": "stream",
     "text": [
      "taux optimal (theoreme du cours): 0.000644638\n"
     ]
    }
   ],
   "source": [
    "eigv = np.linalg.eigvalsh(Q)\n",
    "M = np.max(eigv)\n",
    "m = np.min(eigv)\n",
    "print('taux optimal (theoreme du cours): %g' %  (m/M**2))\n"
   ]
  },
  {
   "cell_type": "markdown",
   "metadata": {
    "deletable": false,
    "editable": false
   },
   "source": [
    "**Q3)** Écrire une boucle réalisant l'algorithme du gradient projeté (pour $1\\leq k\\leq 1000$), et stockant le vecteur $G=(\\nr{x^{(k+1)} - x^{(k)}})$ (comme il s'agit d'un algorithme de point fixe, c'est une bonne manière de quantifier la convergence). Tracer la solution $x \\in \\Rsp^N$ trouvée toutes les 20 itérations (on suggère plt.plot(T,x)).  Tester pour $\\tau = \\tau^*$. En pratique, vérifier que l'algorithme converge toujours pour des valeurs de $\\tau$ plus grandes."
   ]
  },
  {
   "cell_type": "code",
   "execution_count": 11,
   "metadata": {},
   "outputs": [
    {
     "name": "stderr",
     "output_type": "stream",
     "text": [
      "/opt/anaconda3/lib/python3.6/site-packages/ipykernel_launcher.py:2: RuntimeWarning: divide by zero encountered in true_divide\n",
      "  \n",
      "/opt/anaconda3/lib/python3.6/site-packages/ipykernel_launcher.py:5: RuntimeWarning: invalid value encountered in multiply\n",
      "  \"\"\"\n"
     ]
    },
    {
     "ename": "ValueError",
     "evalue": "all the input arrays must have same number of dimensions",
     "output_type": "error",
     "traceback": [
      "\u001b[0;31m---------------------------------------------------------------------------\u001b[0m",
      "\u001b[0;31mValueError\u001b[0m                                Traceback (most recent call last)",
      "\u001b[0;32m<ipython-input-11-8b52055b5775>\u001b[0m in \u001b[0;36m<module>\u001b[0;34m()\u001b[0m\n\u001b[1;32m      8\u001b[0m     \u001b[0mx\u001b[0m \u001b[0;34m=\u001b[0m \u001b[0mxp\u001b[0m\u001b[0;34m\u001b[0m\u001b[0m\n\u001b[1;32m      9\u001b[0m     \u001b[0;32mif\u001b[0m \u001b[0mi\u001b[0m\u001b[0;34m%\u001b[0m\u001b[0;36m20\u001b[0m\u001b[0;34m==\u001b[0m\u001b[0;36m0\u001b[0m\u001b[0;34m:\u001b[0m\u001b[0;34m\u001b[0m\u001b[0m\n\u001b[0;32m---> 10\u001b[0;31m         \u001b[0mplt\u001b[0m\u001b[0;34m.\u001b[0m\u001b[0mplot\u001b[0m\u001b[0;34m(\u001b[0m\u001b[0mnp\u001b[0m\u001b[0;34m.\u001b[0m\u001b[0mhstack\u001b[0m\u001b[0;34m(\u001b[0m\u001b[0;34m(\u001b[0m\u001b[0;36m0\u001b[0m\u001b[0;34m,\u001b[0m\u001b[0mT\u001b[0m\u001b[0;34m,\u001b[0m\u001b[0;36m1\u001b[0m\u001b[0;34m)\u001b[0m\u001b[0;34m)\u001b[0m\u001b[0;34m,\u001b[0m\u001b[0mnp\u001b[0m\u001b[0;34m.\u001b[0m\u001b[0mhstack\u001b[0m\u001b[0;34m(\u001b[0m\u001b[0;34m(\u001b[0m\u001b[0;36m0\u001b[0m\u001b[0;34m,\u001b[0m\u001b[0mx\u001b[0m\u001b[0;34m,\u001b[0m\u001b[0;36m0\u001b[0m\u001b[0;34m)\u001b[0m\u001b[0;34m)\u001b[0m\u001b[0;34m)\u001b[0m\u001b[0;34m\u001b[0m\u001b[0m\n\u001b[0m\u001b[1;32m     11\u001b[0m \u001b[0mplt\u001b[0m\u001b[0;34m.\u001b[0m\u001b[0mfigure\u001b[0m\u001b[0;34m(\u001b[0m\u001b[0;34m)\u001b[0m\u001b[0;34m\u001b[0m\u001b[0m\n\u001b[1;32m     12\u001b[0m \u001b[0mplt\u001b[0m\u001b[0;34m.\u001b[0m\u001b[0msemilogy\u001b[0m\u001b[0;34m(\u001b[0m\u001b[0mG\u001b[0m\u001b[0;34m,\u001b[0m\u001b[0mlabel\u001b[0m\u001b[0;34m=\u001b[0m\u001b[0;34m'|x^(k+1) - x^(k)'\u001b[0m\u001b[0;34m)\u001b[0m\u001b[0;34m\u001b[0m\u001b[0m\n",
      "\u001b[0;32m/opt/anaconda3/lib/python3.6/site-packages/numpy/core/shape_base.py\u001b[0m in \u001b[0;36mhstack\u001b[0;34m(tup)\u001b[0m\n\u001b[1;32m    284\u001b[0m     \u001b[0;31m# As a special case, dimension 0 of 1-dimensional arrays is \"horizontal\"\u001b[0m\u001b[0;34m\u001b[0m\u001b[0;34m\u001b[0m\u001b[0m\n\u001b[1;32m    285\u001b[0m     \u001b[0;32mif\u001b[0m \u001b[0marrs\u001b[0m \u001b[0;32mand\u001b[0m \u001b[0marrs\u001b[0m\u001b[0;34m[\u001b[0m\u001b[0;36m0\u001b[0m\u001b[0;34m]\u001b[0m\u001b[0;34m.\u001b[0m\u001b[0mndim\u001b[0m \u001b[0;34m==\u001b[0m \u001b[0;36m1\u001b[0m\u001b[0;34m:\u001b[0m\u001b[0;34m\u001b[0m\u001b[0m\n\u001b[0;32m--> 286\u001b[0;31m         \u001b[0;32mreturn\u001b[0m \u001b[0m_nx\u001b[0m\u001b[0;34m.\u001b[0m\u001b[0mconcatenate\u001b[0m\u001b[0;34m(\u001b[0m\u001b[0marrs\u001b[0m\u001b[0;34m,\u001b[0m \u001b[0;36m0\u001b[0m\u001b[0;34m)\u001b[0m\u001b[0;34m\u001b[0m\u001b[0m\n\u001b[0m\u001b[1;32m    287\u001b[0m     \u001b[0;32melse\u001b[0m\u001b[0;34m:\u001b[0m\u001b[0;34m\u001b[0m\u001b[0m\n\u001b[1;32m    288\u001b[0m         \u001b[0;32mreturn\u001b[0m \u001b[0m_nx\u001b[0m\u001b[0;34m.\u001b[0m\u001b[0mconcatenate\u001b[0m\u001b[0;34m(\u001b[0m\u001b[0marrs\u001b[0m\u001b[0;34m,\u001b[0m \u001b[0;36m1\u001b[0m\u001b[0;34m)\u001b[0m\u001b[0;34m\u001b[0m\u001b[0m\n",
      "\u001b[0;31mValueError\u001b[0m: all the input arrays must have same number of dimensions"
     ]
    }
   ],
   "source": [
    "x = np.zeros(N)\n",
    "tau = m/M**2\n",
    "G = []\n",
    "for i in range(5000):\n",
    "    xp = projK(x - tau*gradJ(x))\n",
    "    #xp = projK(np.linalg.solve(np.eye(N) + tau*Q, x))\n",
    "    G.append(np.linalg.norm(xp - x))\n",
    "    x = xp\n",
    "    if i%20==0:\n",
    "        plt.plot(np.hstack((0,T,1)),np.hstack((0,x,0)))\n",
    "plt.figure()\n",
    "plt.semilogy(G,label='|x^(k+1) - x^(k)')\n",
    "plt.legend()\n"
   ]
  },
  {
   "cell_type": "markdown",
   "metadata": {
    "deletable": false,
    "editable": false
   },
   "source": [
    "**Q4**) Comme $\\nabla J(x) = Q$, l'algorithme peut en fait être décrit par\n",
    "\n",
    "$$ \\begin{cases}\n",
    "x^{(0)} \\in \\Rsp^N\\\\\n",
    "x^{(k+1)} = p_K(A_\\tau x^{(k)}) \n",
    "\\end{cases} $$\n",
    "\n",
    "où $A_\\tau = \\mathrm{Id}_N - \\tau Q$. Montrer que si toutes les valeurs propres de $A_\\tau$ sont de module $<1$, alors l'application $x\\mapsto A_\\tau x$ est contractante. Vérifier numériquement ce critère pour $\\tau=0.5$ (on utilisera np.linalg.eigvalsh pour calculer les valeurs propres)."
   ]
  },
  {
   "cell_type": "code",
   "execution_count": 9,
   "metadata": {},
   "outputs": [
    {
     "data": {
      "text/plain": [
       "0.9948693233918954"
      ]
     },
     "execution_count": 9,
     "metadata": {},
     "output_type": "execute_result"
    }
   ],
   "source": [
    "tau = .5\n",
    "M = np.eye(N) - tau*Q\n",
    "np.max(np.abs(np.linalg.eigvalsh(M)))\n"
   ]
  },
  {
   "cell_type": "markdown",
   "metadata": {
    "deletable": false,
    "editable": false
   },
   "source": [
    "**Q5)** Comparer la méthode du gradient projeté à celle où on pénalise la contrainte: \n",
    "\n",
    "$$P_\\eps := \\min_{x\\in\\Rsp^d} J_\\eps(x) \\hbox{ où } J_\\eps(x) = J(x) + \\frac{1}{\\eps} \\sum_{1\\leq i\\leq N} \\max(F_i - x_i,0)^2. $$\n",
    "\n",
    "Écrire deux fonctions Jeps/gradJeps calculant $J_\\eps/\\nabla J_\\eps$. Vérifier le calcul du gradient en utilisant check_gradient. Résoudre le problème $P_\\eps$ par descente de gradient avec backtracking pour $\\eps=1,0.1,0.01,0.001$. Interpréter l'explosion du nombre d'itérations."
   ]
  },
  {
   "cell_type": "code",
   "execution_count": 118,
   "metadata": {},
   "outputs": [
    {
     "name": "stdout",
     "output_type": "stream",
     "text": [
      "erreur numerique dans le calcul du gradient: 1.46582e-11 (doit etre petit)\n",
      "eps=1: nb iterations=364\n",
      "erreur: nombre maximum d'itérations atteint\n",
      "eps=0.1: nb iterations=500\n"
     ]
    }
   ],
   "source": [
    "def Jeps(x,eps):\n",
    "    N = len(x)\n",
    "    e = x[0]**2 + x[N-1]**2\n",
    "    for i in range(0,N-1):\n",
    "        e += (x[i+1]-x[i])**2\n",
    "    return J(x) + (1./eps)*np.sum(np.maximum(F-x,0)**2)\n",
    "def gradJeps(x,eps):\n",
    "    return gradJ(x) - (2./eps)*np.maximum(F-x,0)\n",
    "    \n",
    "x0 = np.random.rand(N)\n",
    "check_gradient(lambda x: Jeps(x,1), \n",
    "               lambda x: gradJeps(x,1),x0)\n",
    "\n",
    "for eps in [1,0.1]:\n",
    "    xx,ff,gg = gradient_backtracking(lambda x: Jeps(x,eps), \n",
    "                                     lambda x: gradJeps(x,eps), np.zeros(N),err=1e-4)\n",
    "    print('eps=%g: nb iterations=%d' % (eps, len(gg)))\n"
   ]
  },
  {
   "cell_type": "markdown",
   "metadata": {
    "deletable": false,
    "editable": false
   },
   "source": [
    "## Partie II: Projection sur le simplexe, application à l'optimisation de portefeuilles\n",
    "\n",
    "Comme dans le TD, on pose $\\Delta = \\{ x\\in \\Rsp_+^n \\mid \\sum_{1\\leq i \\leq n} x_i = 1\\}$. On cherche à calculer la projection d'un point $y\\in\\Rsp^n$ sur $\\Delta$. Dans le TD, on a pu démontrer le résultat suivant:\n",
    "\n",
    "- il existe $\\kappa\\in\\Rsp$ tel que $\\sum_{1\\leq i\\leq n} \\max(y_i - \\kappa, 0) = 1$\n",
    "- la projection de $y$ sur $\\Delta$ s'écrit alors $p_\\Delta(y) = (\\max(y_i - \\kappa, 0))_{1\\leq i\\leq n}$\n",
    "\n",
    "**Q1)** Soit $y = (0.1,1.5,2.1) \\in \\Rsp^3$. Écrire une fonction $g(\\kappa) := \\sum_{1\\leq i\\leq n} \\max(y_i - \\kappa,0) - 1$ (utiliser np.sum et np.maximum). Trouver $\\kappa$ vérifiant $g(\\kappa) = 1$ en utilisant scipy.optimize.fsolve. \n",
    "\n",
    "**Q2)** En s'inspirant du code de la fonction précédente, écrire une fonction proj_simplexe calculant la projection d'un point $y\\in\\Rsp^n$ sur $\\Delta$. Pour vérifier le bon fonctionnement de cette fonction, fixez $y\\in\\Rsp^3$ et calculer $p=$proj_simplexe(y); vérifier ensuite que \n",
    "\n",
    "$$ \\forall z \\in \\Delta, \\sca{y - p_\\Delta(y)}{p_\\Delta(y) - z} \\geq 0 $$\n",
    "\n",
    "Comme il ne s'agit bien sûr pas de considérer *tous* les points dans le simplexe, on pourra choisir quelques $z$ aléatoires dans $\\Delta$. (dans le cas $n=2$, on peut également tirer quelques points aléatoirement dans le plan et visualiser le segment qui les relie à leur projection sur $\\Delta$)"
   ]
  },
  {
   "cell_type": "code",
   "execution_count": 124,
   "metadata": {},
   "outputs": [
    {
     "name": "stdout",
     "output_type": "stream",
     "text": [
      "[ 0.938359]\n",
      "0.33905209183\n",
      "0.402334379417\n",
      "0.312095058026\n",
      "0.344208818507\n",
      "0.28165873818\n",
      "0.280881122466\n",
      "0.470523357576\n",
      "0.00383768171261\n",
      "0.193631560168\n",
      "0.333615225286\n"
     ]
    },
    {
     "data": {
      "text/plain": [
       "<matplotlib.legend.Legend at 0x7f4fcc95b110>"
      ]
     },
     "execution_count": 124,
     "metadata": {},
     "output_type": "execute_result"
    },
    {
     "data": {
      "image/png": "[encoded data removed]",
      "text/plain": [
       "<matplotlib.figure.Figure at 0x7f4fcc95b190>"
      ]
     },
     "metadata": {},
     "output_type": "display_data"
    }
   ],
   "source": [
    "import scipy.optimize\n",
    "\n",
    "y = np.array([0.1,1.5,2.1])\n",
    "g = lambda k: np.sum(np.maximum(x-k,0)) - 1.0\n",
    "k = scipy.optimize.fsolve(g,0)\n",
    "print(k)\n",
    "\n",
    "\n",
    "def proj_simplexe(y):\n",
    "    g = lambda k: np.sum(np.maximum(y-k,0)) - 1.0\n",
    "    k = scipy.optimize.fsolve(g,0)\n",
    "    return np.maximum(y-k,0)\n",
    "\n",
    "# validation: calcul de produits scalaires\n",
    "y = 4*np.random.rand(3)\n",
    "p = proj_simplexe(y)\n",
    "for i in range(10):\n",
    "    z = np.random.rand(3)\n",
    "    z = z/np.sum(z)\n",
    "    print(np.dot(y-p, p-z))\n",
    "\n",
    "# validation: affichage de projections\n",
    "plt.figure()\n",
    "for i in range(30):\n",
    "    y = 2*np.random.rand(2)\n",
    "    p = proj_simplexe(y)\n",
    "    plt.plot([y[0],p[0]],[y[1],p[1]],'b')\n",
    "    plt.axis('equal')\n",
    "plt.plot([0,1],[1,0],'r',label='simplexe')\n",
    "plt.legend()\n",
    "\n"
   ]
  },
  {
   "cell_type": "markdown",
   "metadata": {
    "deletable": false,
    "editable": false
   },
   "source": [
    "**Q3)** Implémenter l'algorithme du gradient projeté pour résoudre le problème (en dimension $n=8$):\n",
    "\n",
    "$$ \\min_{x \\in \\Delta} \\frac{1}{2} \\sca{Q x}{x} + \\frac{1}{2\\eps} (\\sca{r}{x} - \\bar{r})^2 $$\n",
    "\n",
    "où $Q,r,\\bar{r}$ et $\\eps$ sont donnés ci-dessous. (On pourra estimer le paramètre $\\tau$ de l'algorithme du gradient projeté par tâtonnement, ou comme dans la partie précédente.)"
   ]
  },
  {
   "cell_type": "code",
   "execution_count": 125,
   "metadata": {},
   "outputs": [
    {
     "name": "stdout",
     "output_type": "stream",
     "text": [
      "[ 12.02460744   0.28833224   0.43137605   0.45364963   0.46633244\n",
      "   0.48051341   0.49474769   0.49895256]\n"
     ]
    }
   ],
   "source": [
    "A = np.random.rand(8,8)\n",
    "Q = np.eye(8) + 0.1*np.dot(A.T,A)\n",
    "r = np.random.rand(8)\n",
    "rbar = 0.7*np.max(r)  + 0.3*np.min(r)\n",
    "eps = 0.1\n",
    "\n",
    "# on veut trouver la stratégie qui fournit un rendement égal à 70% du rendement du meilleur produit, \n",
    "# tout en minimisant le risque\n",
    "\n",
    "M = Q + np.dot(r.reshape(8,1), r.reshape(1,8))/eps\n",
    "\n",
    "print(np.abs(np.linalg.eigvalsh(np.eye(8)-tau*M)))\n",
    "\n"
   ]
  }
 ],
 "metadata": {
  "celltoolbar": "None",
  "kernelspec": {
   "display_name": "Python 3",
   "language": "python",
   "name": "python3"
  },
  "language_info": {
   "codemirror_mode": {
    "name": "ipython",
    "version": 3
   },
   "file_extension": ".py",
   "mimetype": "text/x-python",
   "name": "python",
   "nbconvert_exporter": "python",
   "pygments_lexer": "ipython3",
   "version": "3.6.5"
  }
 },
 "nbformat": 4,
 "nbformat_minor": 1
}
