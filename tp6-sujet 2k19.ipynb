{
 "cells": [
  {
   "cell_type": "markdown",
   "metadata": {
    "deletable": false
   },
   "source": [
    "***\n",
    "**Algorithmes d'optimisation -- L3 MINT et doubles licences 2017/2018 -- Université Paris-Sud**\n",
    "***\n",
    "$\\newcommand{\\Rsp}{\\mathbb{R}}\n",
    "\\newcommand{\\nr}[1]{\\|#1\\|}\n",
    "\\newcommand{\\abs}[1]{|#1|}\n",
    "\\newcommand{\\eps}{\\varepsilon}\n",
    "\\newcommand{\\sca}[2]{\\langle#1|#2\\rangle}\n",
    "\\newcommand{\\D}{\\mathrm{D}}\n",
    "\\newcommand{\\hdots}{\\dots}\n",
    "\\newcommand{\\cond}{\\mathrm{cond}}$\n",
    "\n",
    "\n",
    "# TP6 : Machines à vecteur support\n",
    "\n",
    "L'objectif de ce (court) TP est de résoudre un problème d'optimisation apparaissant en classification supervisée: le problème d'entraînement d'une machine à vecteur support (\"support vector machine\"). Comme dans le TP sur la régression logistique, on a à notre disposition une famille de points $(x_\\alpha)_{\\alpha \\in \\{1,\\hdots,k\\}}$ répartis en deux classes $\\{1,\\hdots,N\\} = A \\sqcup B$. On considère l'ensemble suivant  \n",
    "\n",
    "$$ K = \\{ w \\in \\Rsp^d\\mid \\forall a \\in A, \\sca{w}{x_a}\\geq 1 \\hbox{ et } \\forall b\\in B, \\sca{w}{x_b} \\leq -1 \\}. $$\n",
    "\n",
    "Ainsi $K$ contient l'ensemble des vecteurs $w$ permettant de séparer linéairement les points $(x_a)_{a\\in A}$ des points $(x_b)_{b\\in B}$. Noter qu'il est possible que l'ensemble $K$ soit vide. On cherche à résoudre le problème de minimisation\n",
    "$$ (P) = \\min_{w \\in K} \\nr{w}^2 $$\n",
    "\n",
    "Dans la suite, on pose \n",
    "$$ z_\\alpha = \\begin{cases} \n",
    "-x_\\alpha &\\hbox{ si } \\alpha\\in A\\\\\n",
    "x_\\alpha &\\hbox{ si } \\alpha\\in B\n",
    "\\end{cases} $$\n",
    "et $Z$ la matrice ayant $k$ lignes et $d$ colonnes, dont les $k$ lignes sont les vecteurs $z_1,\\hdots,z_k$. Enfin, on note $e = (1,\\hdots,1)\\in \\Rsp^k$.\n",
    "\n",
    "**Q1)** Montrer que $K = \\{ w \\in \\Rsp^d \\mid Z w + e \\leq 0 \\},$\n",
    "où l'inégalité $Z w+ e\\leq 0$ signifie que $\\forall i, (Z w+ e)_i \\leq 0$.\n",
    "\n",
    "Grâce à la question précédente, le lagrangien de ce problème est donné par\n",
    "$$ \n",
    "\\ell: (w,\\lambda)\\in\\Rsp^d\\times \\Rsp^k_+ \\mapsto \\nr{w}^2 + \\sca{\\lambda }{ Z w + e} \n",
    "$$\n",
    "\n",
    "et le problème dual vaut par définition\n",
    "$$ (D) := \\sup_{\\lambda \\in \\Rsp_+^k} \\inf_{x\\in \\Rsp^d} \\ell(x,\\lambda) $$\n",
    "\n",
    "**Q2)** \n",
    "Monter que le problème dual peut être mis sous la forme\n",
    "$$ \\max_{\\lambda \\in\\Rsp_+^k} G(\\lambda) \\hbox{ où } G(\\lambda) = -\\frac14 \\nr{Z^T\\lambda}^2+ \\sca{\\lambda}{e} \n",
    "$$\n",
    "*(Indication: calculera le minimum de $\\ell(\\cdot,\\lambda)$ pour $\\lambda$ fixé et on vérifiera qu'il est atteint pour $w_{\\lambda}=-\\frac12 Z^T \\lambda$.)*\n",
    "\n",
    "\n",
    "\n",
    "\n",
    "\n",
    "## 1. Algorithme d'Uzawa\n",
    "\n",
    "L'algorithme du gradient projeté pour le problème dual (D) est donné par \n",
    "$$ \\begin{cases}\n",
    "\\lambda^{(0)} = 0 \\in \\Rsp^k \\\\\n",
    "w^{(n)} = - \\frac12 Z^T \\lambda^{(n)} &(\\in \\arg\\min_{x\\in\\Rsp^d} \\ell(x,\\lambda)) \\\\\n",
    "\\gamma^{(n)} = \\nabla G(\\lambda^{(n)}) &(Z w^{(n)} + e, \\hbox{ cf Q3}) \\\\\n",
    "\\lambda^{(n+1)} = p_{\\Rsp_+^k}(\\lambda^{(n)} + \\tau \\gamma^{(n)})\\\\\n",
    "\\end{cases}\n",
    "$$\n",
    "où l'on rappelle que $p_{\\Rsp_+^k}(v) = (\\max(v_1,0),\\hdots,\\max(v_k,0))$. L'algorithme est arrêté lorsque $\\nr{w^{(n)} - w^{(n+1)}}\\leq \\eps$.\n",
    "\n",
    "**Q3)**\n",
    "Montrer que $\\nabla G(\\lambda) = e -\\frac12 ZZ^T\\lambda = Z w_\\lambda + e$,\n",
    "\n",
    "\n",
    "**Q4)[Convergence de l'algorithme d'Uzawa]** On pose  $S_\\tau(\\lambda) := p_{\\Rsp_+^k}(\\lambda + \\tau \\nabla G(\\lambda))$, de sorte que $\\lambda^{(n+1)} = S_\\tau(\\lambda^{(n)})$. \n",
    "- Montrer que la fonction $G$ est concave.\n",
    "- En déduire que si $\\lambda^*$ est un point fixe de $S_\\tau$, alors $\\lambda^*$ est solution du problème (D) (i.e. maximise $G$ sur $\\Rsp_+^k$).\n",
    "\n",
    "\n",
    "**Q5)** Écrire l'algorithme en utilisant la matrice $Z$ donné ci-dessous; on l'arrêtera au bout de 2000 itérations, puis:\n",
    "- Tester l'algorithme sur les données ci dessous.\n",
    "- À l'aide de la fonction lignes_niveau(w), tracez les lignes de niveau de la fonction $x\\mapsto \\sca{w}{x}$. Tracez la norme de $\\lambda^{(n)}$.\n",
    "- Vérifier numériquement les conditions KKT. \n",
    "\n",
    "\n"
   ]
  },
  {
   "cell_type": "code",
   "execution_count": 2,
   "metadata": {},
   "outputs": [
    {
     "data": {
      "image/png": "[encoded data removed]",
      "text/plain": [
       "<matplotlib.figure.Figure at 0x101d64190>"
      ]
     },
     "metadata": {},
     "output_type": "display_data"
    }
   ],
   "source": [
    "#\\sum_{1\\leq i\\leq k} \\lambda_i c_i\n",
    "\n",
    "import numpy as np\n",
    "import matplotlib.pyplot as plt\n",
    "%matplotlib inline\n",
    "# la commande suivante agrandit les figures\n",
    "plt.rcParams['figure.figsize'] = [9.,6.]\n",
    "\n",
    "#création des données jeu 1\n",
    "\n",
    "import numpy as np\n",
    "import matplotlib.pyplot as plt\n",
    "%matplotlib inline\n",
    "# la commande suivante agrandit les figures\n",
    "plt.rcParams['figure.figsize'] = [9.,6.]\n",
    "\n",
    "n = 30\n",
    "X = np.vstack((np.hstack((-0.5+.2*np.random.randn(n,1), -0.5 + .15*np.random.randn(n,1))),\n",
    "               np.hstack((0.5+.2*np.random.randn(n,1), 0.5 + .15*np.random.randn(n,1)))))\n",
    "A = range(0,n)\n",
    "B = range(n,2*n)\n",
    "plt.plot(X[A,0],X[A,1],'.r')\n",
    "plt.plot(X[B,0],X[B,1],'.g')\n",
    "plt.axis('equal');\n",
    "\n",
    "Z = X.copy()\n",
    "Z[B,:] = -Z[B,:]\n"
   ]
  },
  {
   "cell_type": "code",
   "execution_count": 3,
   "metadata": {},
   "outputs": [],
   "source": [
    "# <completer>\n",
    "\n",
    "def lignes_niveau(w):\n",
    "    u = lambda x,y: x*w[0] + y*w[1]\n",
    "    Xcontour,Ycontour = np.meshgrid(np.linspace(-1., 1., 100),\n",
    "                                    np.linspace(-1., 1., 100))\n",
    "    Zcontour = u(Xcontour,Ycontour)\n",
    "    p = plt.contour(Xcontour, Ycontour, Zcontour, cmap='RdBu')\n",
    "    plt.clabel(p, inline=1, fontsize=10)\n",
    "    \n",
    "plt.plot(X[A,0],X[A,1],'.r')\n",
    "plt.plot(X[B,0],X[B,1],'.g')\n",
    "lignes_niveau(w)\n",
    "plt.axis('equal');"
   ]
  },
  {
   "cell_type": "markdown",
   "metadata": {
    "deletable": false
   },
   "source": [
    "**Q5** Montrer que si $K = \\emptyset$, alors $(P) = \\infty$. Constater numériquement que (D) semble aussi être $+\\infty$. "
   ]
  },
  {
   "cell_type": "code",
   "execution_count": 4,
   "metadata": {},
   "outputs": [],
   "source": [
    "#création des données jeu 2\n",
    "\n",
    "import numpy as np\n",
    "import matplotlib.pyplot as plt\n",
    "%matplotlib inline\n",
    "# la commande suivante agrandit les figures\n",
    "plt.rcParams['figure.figsize'] = [9.,6.]\n",
    "\n",
    "n = 30\n",
    "X = np.vstack((np.hstack((-0.2+.2*np.random.randn(n,1), -0.2 + .15*np.random.randn(n,1))),\n",
    "               np.hstack((0.2+.2*np.random.randn(n,1), 0.2 + .15*np.random.randn(n,1)))))\n",
    "I = range(0,n)\n",
    "J = range(n,2*n)\n",
    "plt.plot(X[I,0],X[I,1],'.r')\n",
    "plt.plot(X[J,0],X[J,1],'.g')\n",
    "plt.axis('equal');\n",
    "\n",
    "Z = X.copy()\n",
    "Z[J,:] = -Z[J,:]\n",
    "\n",
    "# <completer>\n",
    "\n"
   ]
  },
  {
   "cell_type": "markdown",
   "metadata": {
    "collapsed": true,
    "deletable": false
   },
   "source": [
    "\n"
   ]
  },
  {
   "cell_type": "code",
   "execution_count": null,
   "metadata": {},
   "outputs": [],
   "source": []
  },
  {
   "cell_type": "code",
   "execution_count": null,
   "metadata": {},
   "outputs": [],
   "source": []
  }
 ],
 "metadata": {
  "celltoolbar": "None",
  "kernelspec": {
   "display_name": "Python 2",
   "language": "python",
   "name": "python2"
  },
  "language_info": {
   "codemirror_mode": {
    "name": "ipython",
    "version": 2
   },
   "file_extension": ".py",
   "mimetype": "text/x-python",
   "name": "python",
   "nbconvert_exporter": "python",
   "pygments_lexer": "ipython2",
   "version": "2.7.15rc1"
  }
 },
 "nbformat": 4,
 "nbformat_minor": 1
}
