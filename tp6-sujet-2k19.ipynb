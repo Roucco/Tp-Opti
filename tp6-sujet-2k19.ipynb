{
 "cells": [
  {
   "cell_type": "markdown",
   "metadata": {
    "deletable": false
   },
   "source": [
    "***\n",
    "**Algorithmes d'optimisation -- L3 MINT et doubles licences 2017/2018 -- Université Paris-Sud**\n",
    "***\n",
    "$\\newcommand{\\Rsp}{\\mathbb{R}}\n",
    "\\newcommand{\\nr}[1]{\\|#1\\|}\n",
    "\\newcommand{\\abs}[1]{|#1|}\n",
    "\\newcommand{\\eps}{\\varepsilon}\n",
    "\\newcommand{\\sca}[2]{\\langle#1|#2\\rangle}\n",
    "\\newcommand{\\D}{\\mathrm{D}}\n",
    "\\newcommand{\\hdots}{\\dots}\n",
    "\\newcommand{\\cond}{\\mathrm{cond}}$\n",
    "\n",
    "\n",
    "# TP6 : Machines à vecteur support\n",
    "\n",
    "L'objectif de ce (court) TP est de résoudre un problème d'optimisation apparaissant en classification supervisée: le problème d'entraînement d'une machine à vecteur support (\"support vector machine\"). Comme dans le TP sur la régression logistique, on a à notre disposition une famille de points $(x_\\alpha)_{\\alpha \\in \\{1,\\hdots,k\\}}$ répartis en deux classes $\\{1,\\hdots,N\\} = A \\sqcup B$. On considère l'ensemble suivant  \n",
    "\n",
    "$$ K = \\{ w \\in \\Rsp^d\\mid \\forall a \\in A, \\sca{w}{x_a}\\geq 1 \\hbox{ et } \\forall b\\in B, \\sca{w}{x_b} \\leq -1 \\}. $$\n",
    "\n",
    "Ainsi $K$ contient l'ensemble des vecteurs $w$ permettant de séparer linéairement les points $(x_a)_{a\\in A}$ des points $(x_b)_{b\\in B}$. Noter qu'il est possible que l'ensemble $K$ soit vide. On cherche à résoudre le problème de minimisation\n",
    "$$ (P) = \\min_{w \\in K} \\nr{w}^2 $$\n",
    "\n",
    "Dans la suite, on pose \n",
    "$$ z_\\alpha = \\begin{cases} \n",
    "-x_\\alpha &\\hbox{ si } \\alpha\\in A\\\\\n",
    "x_\\alpha &\\hbox{ si } \\alpha\\in B\n",
    "\\end{cases} $$\n",
    "et $Z$ la matrice ayant $k$ lignes et $d$ colonnes, dont les $k$ lignes sont les vecteurs $z_1,\\hdots,z_k$. Enfin, on note $e = (1,\\hdots,1)\\in \\Rsp^k$.\n",
    "\n",
    "**Q1)** Montrer que $K = \\{ w \\in \\Rsp^d \\mid Z w + e \\leq 0 \\},$\n",
    "où l'inégalité $Z w+ e\\leq 0$ signifie que $\\forall i, (Z w+ e)_i \\leq 0$.\n",
    "\n",
    "Grâce à la question précédente, le lagrangien de ce problème est donné par\n",
    "$$ \n",
    "\\ell: (w,\\lambda)\\in\\Rsp^d\\times \\Rsp^k_+ \\mapsto \\nr{w}^2 + \\sca{\\lambda }{ Z w + e} \n",
    "$$\n",
    "\n",
    "et le problème dual vaut par définition\n",
    "$$ (D) := \\sup_{\\lambda \\in \\Rsp_+^k} \\inf_{x\\in \\Rsp^d} \\ell(x,\\lambda) $$\n",
    "\n",
    "**Q2)** \n",
    "Monter que le problème dual peut être mis sous la forme\n",
    "$$ \\max_{\\lambda \\in\\Rsp_+^k} G(\\lambda) \\hbox{ où } G(\\lambda) = -\\frac14 \\nr{Z^T\\lambda}^2+ \\sca{\\lambda}{e} \n",
    "$$\n",
    "*(Indication: calculera le minimum de $\\ell(\\cdot,\\lambda)$ pour $\\lambda$ fixé et on vérifiera qu'il est atteint pour $w_{\\lambda}=-\\frac12 Z^T \\lambda$.)*\n",
    "\n",
    "\n",
    "\n",
    "\n",
    "\n",
    "## 1. Algorithme d'Uzawa\n",
    "\n",
    "L'algorithme du gradient projeté pour le problème dual (D) est donné par \n",
    "$$ \\begin{cases}\n",
    "\\lambda^{(0)} = 0 \\in \\Rsp^k \\\\\n",
    "w^{(n)} = - \\frac12 Z^T \\lambda^{(n)} &(\\in \\arg\\min_{x\\in\\Rsp^d} \\ell(x,\\lambda)) \\\\\n",
    "\\gamma^{(n)} = \\nabla G(\\lambda^{(n)}) &(Z w^{(n)} + e, \\hbox{ cf Q3}) \\\\\n",
    "\\lambda^{(n+1)} = p_{\\Rsp_+^k}(\\lambda^{(n)} + \\tau \\gamma^{(n)})\\\\\n",
    "\\end{cases}\n",
    "$$\n",
    "où l'on rappelle que $p_{\\Rsp_+^k}(v) = (\\max(v_1,0),\\hdots,\\max(v_k,0))$. L'algorithme est arrêté lorsque $\\nr{w^{(n)} - w^{(n+1)}}\\leq $ ̀`err`.\n",
    "\n",
    "**Q3)**\n",
    "Montrer que $\\nabla G(\\lambda) = e -\\frac12 ZZ^T\\lambda = Z w_\\lambda + e$,\n",
    "\n",
    "\n",
    "**Q4)[Convergence de l'algorithme d'Uzawa]** On pose  $S_\\tau(\\lambda) := p_{\\Rsp_+^k}(\\lambda + \\tau \\nabla G(\\lambda))$, de sorte que $\\lambda^{(n+1)} = S_\\tau(\\lambda^{(n)})$. \n",
    "- Montrer que la fonction $G$ est concave.\n",
    "- En déduire que si $\\lambda^*$ est un point fixe de $S_\\tau$, alors $\\lambda^*$ est solution du problème (D) (i.e. maximise $G$ sur $\\Rsp_+^k$).\n",
    "\n",
    "\n",
    "**Q5)** Écrire l'algorithme en utilisant la matrice $Z$ donné ci-dessous; on l'arrêtera au bout de 2000 itérations, puis:\n",
    "- Tester l'algorithme sur les données ci dessous.\n",
    "- À l'aide de la fonction lignes_niveau(w), tracez les lignes de niveau de la fonction $x\\mapsto \\sca{w}{x}$. Tracez la norme de $\\lambda^{(n)}$.\n",
    "- Vérifier numériquement les conditions KKT. \n",
    "\n",
    "\n"
   ]
  },
  {
   "cell_type": "code",
   "execution_count": null,
   "metadata": {},
   "outputs": [],
   "source": []
  },
  {
   "cell_type": "code",
   "execution_count": 2,
   "metadata": {},
   "outputs": [
    {
     "data": {
      "image/png": "[encoded data removed]",
      "text/plain": [
       "<Figure size 648x432 with 1 Axes>"
      ]
     },
     "metadata": {},
     "output_type": "display_data"
    }
   ],
   "source": [
    "#\\sum_{1\\leq i\\leq k} \\lambda_i c_i\n",
    "\n",
    "import numpy as np\n",
    "import matplotlib.pyplot as plt\n",
    "%matplotlib inline\n",
    "# la commande suivante agrandit les figures\n",
    "plt.rcParams['figure.figsize'] = [9.,6.]\n",
    "\n",
    "#création des données jeu 1\n",
    "\n",
    "import numpy as np\n",
    "import matplotlib.pyplot as plt\n",
    "%matplotlib inline\n",
    "# la commande suivante agrandit les figures\n",
    "plt.rcParams['figure.figsize'] = [9.,6.]\n",
    "\n",
    "n = 30\n",
    "X = np.vstack((np.hstack((-0.5+.2*np.random.randn(n,1), -0.5 + .15*np.random.randn(n,1))),\n",
    "               np.hstack((0.5+.2*np.random.randn(n,1), 0.5 + .15*np.random.randn(n,1)))))\n",
    "A = range(0,n)\n",
    "B = range(n,2*n)\n",
    "plt.plot(X[A,0],X[A,1],'.r')\n",
    "plt.plot(X[B,0],X[B,1],'.g')\n",
    "plt.axis('equal');\n",
    "\n",
    "Z = X.copy()\n",
    "Z[B,:] = -Z[B,:]\n"
   ]
  },
  {
   "cell_type": "code",
   "execution_count": 8,
   "metadata": {},
   "outputs": [],
   "source": [
    "# <completer>\n",
    "\n",
    "def lignes_niveau(w):\n",
    "    u = lambda x,y: x*w[0] + y*w[1]\n",
    "    Xcontour,Ycontour = np.meshgrid(np.linspace(-1., 1., 100),\n",
    "                                    np.linspace(-1., 1., 100))\n",
    "    Zcontour = u(Xcontour,Ycontour)\n",
    "    p = plt.contour(Xcontour, Ycontour, Zcontour, cmap='RdBu')\n",
    "    plt.clabel(p, inline=1, fontsize=10)\n",
    "    plt.axis('equal')\n",
    "    \n",
    "plt.plot(X[A,0],X[A,1],'.r')\n",
    "plt.plot(X[B,0],X[B,1],'.g')\n",
    "lignes_niveau(w)\n",
    "plt.axis('equal');"
   ]
  },
  {
   "cell_type": "markdown",
   "metadata": {
    "deletable": false
   },
   "source": [
    "**Q6** Montrer que si $K = \\emptyset$, alors $(P) = \\infty$. Constater numériquement que (D) semble aussi être $+\\infty$. "
   ]
  },
  {
   "cell_type": "code",
   "execution_count": 9,
   "metadata": {},
   "outputs": [],
   "source": [
    "#création des données jeu 2\n",
    "\n",
    "import numpy as np\n",
    "import matplotlib.pyplot as plt\n",
    "%matplotlib inline\n",
    "# la commande suivante agrandit les figures\n",
    "plt.rcParams['figure.figsize'] = [9.,6.]\n",
    "\n",
    "n = 30\n",
    "X = np.vstack((np.hstack((-0.2+.2*np.random.randn(n,1), -0.2 + .15*np.random.randn(n,1))),\n",
    "               np.hstack((0.2+.2*np.random.randn(n,1), 0.2 + .15*np.random.randn(n,1)))))\n",
    "I = range(0,n)\n",
    "J = range(n,2*n)\n",
    "plt.plot(X[I,0],X[I,1],'.r')\n",
    "plt.plot(X[J,0],X[J,1],'.g')\n",
    "plt.axis('equal');\n",
    "\n",
    "Z = X.copy()\n",
    "Z[J,:] = -Z[J,:]\n",
    "\n",
    "# <completer>\n",
    "\n"
   ]
  },
  {
   "cell_type": "markdown",
   "metadata": {
    "collapsed": true,
    "deletable": false
   },
   "source": [
    "\n"
   ]
  },
  {
   "cell_type": "markdown",
   "metadata": {
    "deletable": false
   },
   "source": [
    "## 2. Algorithme de descente par coordonnée\n",
    "\n",
    "On s'intéresse à un second algorithme pour trouver le maximum du problème\n",
    "\n",
    "$$ (D) = \\max_{\\lambda \\in\\Rsp_+^k} G(\\lambda) \\hbox{ où } G(\\lambda) = -\\frac14 \\nr{Z^T\\lambda}^2+ \\sca{\\lambda}{e} \n",
    "$$\n",
    "\n",
    "L'algorithme est un algorithme de montée de coordonnée à pas optimal. Dans la suite, on suppose que $ZZ^T$ est définie positive, de sorte que $G$ est strictement concave.\n",
    "\n",
    "\n",
    "**Q1.** Soit $\\lambda \\in \\Rsp_+^k$ et $i\\in\\{1,\\hdots,k\\}$. On pose $\\lambda_t = \\lambda + (t-\\lambda_i) e_i$ et $g(t) = G(\\lambda_t)$. \n",
    "- Montrer que la fonction $g$ est un polynôme de degré $2$, et que le coefficient du degré maximum est strictement négatif.\n",
    "- Montrer que, si $Z_i$ désigne la $i$ème ligne de $Z$,\n",
    "$$ g'(t) = \\frac{\\partial G}{\\partial e_i}(\\lambda_t) = - \\frac{1}{2} \\sca{Z_i}{Z^T (\\lambda + (t-\\lambda_i) e_i)} +  1$$\n",
    "- En déduire que le maximiseur de $g$ sur $\\Rsp_+$ est donné par \n",
    "$$ t_i(\\lambda) := \\max\\left(\\lambda_i - \\frac{-\\frac{1}{2}\\sca{Z_i}{Z^T \\lambda} +  1}{-\\frac{1}{2}\\nr{Z_i}^2}, 0\\right)$$\n",
    "\n",
    "On note maintenant $P_i: \\Rsp_+^k \\to \\Rsp_+^k$, défini par $P_i(\\lambda) = (\\lambda_1,\\hdots, \\lambda_{i-1},t_i(\\lambda),\\lambda_{i+1},\\hdots,\\lambda_M)$, où la quantité $t_i(\\lambda)$ est définie ci-dessus. On peut alors définir l'algorithme \n",
    "$$ \\begin{cases}\n",
    "\\lambda^{(0)} = 0 \\in \\Rsp^k \\\\\n",
    "w^{(n)} = - \\frac12 Z^T \\lambda^{(n)} &(\\in \\arg\\min_{x\\in\\Rsp^d} \\ell(x,\\lambda)) \\\\\n",
    "\\lambda^{(n+1)} = P_n\\circ \\hdots \\circ P_1(\\lambda^{(n)}),\n",
    "\\end{cases}\n",
    "$$\n",
    "que l'on arrêtera dès que $\\nr{w^{(n+1)} - w^{(n)}} \\leq$ `err`.\n",
    "\n",
    "**Q2.** Mettre en oeuvre cet algorithme et comparer sa vitesse de convergence à celle de l'algorithme d'Uzawa."
   ]
  },
  {
   "cell_type": "code",
   "execution_count": 14,
   "metadata": {},
   "outputs": [],
   "source": [
    "n = 30\n",
    "X = np.vstack((np.hstack((-0.5+.2*np.random.randn(n,1), -0.5 + .15*np.random.randn(n,1))),\n",
    "               np.hstack((0.5+.2*np.random.randn(n,1), 0.5 + .15*np.random.randn(n,1)))))\n",
    "A = range(0,n)\n",
    "B = range(n,2*n)\n",
    "N = 2*n\n",
    "Z = X.copy()\n",
    "Z[B,:] = -Z[B,:]\n",
    "\n",
    "# <completer>\n"
   ]
  },
  {
   "cell_type": "markdown",
   "metadata": {
    "deletable": false
   },
   "source": [
    "**Q3.** Soit $S: \\Rsp^k\\to\\Rsp^k_+$ l'opérateur défini par $S(\\lambda) = P_k\\circ\\hdots\\circ P_1(\\lambda)$. \n",
    "- Démontrer que $G(S(\\lambda)) \\leq G(\\lambda)$\n",
    "- Démontrer que si $G(S(\\lambda)) = G(\\lambda)$, alors pour tout $i \\in \\{1,\\hdots,k\\}, P_i(\\lambda) = \\lambda$.\n",
    "- En déduire que si $\\lambda \\in \\Rsp^k_+$ est un point fixe de $S$, et si on pose\n",
    "$$ \\mu_i = -\\frac{\\partial G}{\\partial \\lambda_i}(\\lambda), $$\n",
    "alors, en utilisant **Q1**,\n",
    "$$ \\forall i\\in\\{1,\\hdots,k\\}, \\begin{cases}\n",
    "\\mu_i \\geq 0 \\\\\n",
    "\\lambda_i \\mu_i  = 0 \n",
    "\\end{cases}\n",
    "$$\n",
    "En utilisant le théorème KKT, démontrer que $\\lambda$ est alors un maximiseur du problème dual."
   ]
  }
 ],
 "metadata": {
  "celltoolbar": "None",
  "kernelspec": {
   "display_name": "Python 3",
   "language": "python",
   "name": "python3"
  },
  "language_info": {
   "codemirror_mode": {
    "name": "ipython",
    "version": 3
   },
   "file_extension": ".py",
   "mimetype": "text/x-python",
   "name": "python",
   "nbconvert_exporter": "python",
   "pygments_lexer": "ipython3",
   "version": "3.6.5"
  }
 },
 "nbformat": 4,
 "nbformat_minor": 1
}
