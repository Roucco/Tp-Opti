{
 "cells": [
  {
   "cell_type": "markdown",
   "metadata": {
    "deletable": false
   },
   "source": [
    "***\n",
    "**Algorithmes d'optimisation -- L3 MINT et doubles licences -- Université Paris-Sud**\n",
    "***\n",
    "\n",
    "$\\newcommand{\\Rsp}{\\mathbb{R}}\n",
    "\\newcommand{\\nr}[1]{\\|#1\\|}\n",
    "\\newcommand{\\abs}[1]{|#1|}\n",
    "\\newcommand{\\eps}{\\varepsilon}\n",
    "\\newcommand{\\sca}[2]{\\langle#1|#2\\rangle}\n",
    "\\newcommand{\\D}{\\mathrm{D}}\n",
    "\\newcommand{\\hdots}{\\dots}\n",
    "\\newcommand{\\cond}{\\mathrm{cond}}$\n",
    "\n",
    "# TP 2: Régression logistique\n",
    "\n",
    "## Partie I: Descente de gradient avec rebroussement d'Armijo ##\n",
    "\n",
    "Étant donné un point $x^{(k)}$ et une direction de descente $d^{(k)}$ le pas d'Armijo est défini de la manière suivante: \n",
    "\n",
    "$$ t^{(k)}_{\\mathrm{arm}} = \\max \\left\\{ t  \\mid t = \\beta^\\ell, \\ell\\in \\mathbb{N}, \\hbox{ tq } f(x^{(k)} + t d^{(k)}) \\leq f(x) + \\alpha t\\sca{\\nabla f(x)}{d^{(k)}} \\right\\}, $$\n",
    "\n",
    "où on prendra $\\alpha = 0.3, \\beta = 0.5$. Algorithmiquement, on procède de la manière suivante pour calculer $t^{(k)}_{\\mathrm{arm}}$ en fonction de $x=x^{(k)}$ et $v = d^{(k)}$:\n",
    "\n",
    "$$\n",
    "\\left|\n",
    "\\begin{aligned}\n",
    "&\\mathrm{pas\\_armijo}(f,x,v)\\\\\n",
    "&\\qquad t \\gets 1\\\\\n",
    "&\\qquad m \\gets \\sca{\\nabla f(x)}{v}\\\\\n",
    "&\\qquad \\textbf{while } f(x + t v) > f(x) + \\alpha t m \\\\\n",
    "&\\qquad\\qquad t \\gets \\beta t\\\\\n",
    "&\\qquad \\mathrm{return}~t\n",
    "\\end{aligned}\\right.\n",
    "$$\n",
    "\n",
    "L'algorithme de descente de gradient avec rebroussement d'Armijo s'écrit alors de la manière suivante:\n",
    "\n",
    "$$\n",
    "\\begin{cases}\n",
    "d^{(k)} = - \\nabla f(x^{(k)}) \\\\\n",
    "t^{(k)} = \\mathrm{pas\\_armijo}(f,x^{(k)}, d^{(k)})\\\\\n",
    "x^{(k+1)} = x^{(k)} + t^{(k)} d^{(k)}\n",
    "\\end{cases}$$\n",
    "\n",
    "\n",
    "**QI.1**)  Écrire les fonctions suivantes:\n",
    "- `pas_armijo(f,gradf,x)` prend en entrée $f:\\Rsp^N\\to\\Rsp$, `gradf`$=\\nabla f:\\Rsp^N\\to\\Rsp^N$, $x,d\\in\\Rsp^N$. On choisira `alpha`$=0.3$, `beta`$=0.5$ et on retournera le pas $t$. \n",
    "- `gradient_armijo(f,gradf,x0,err=1e-6,maxiter=1000)` prenant en argument la fonction `f`, `gradf`, `x0`=$x^{(0)}$ et un critère d'arrêt `err`$\\in\\Rsp$, et qui effectue l'algorithme de descente de gradient avec pas d'Armijo en arrêtant la boucle dès que $\\nr{d^{(k)}} \\leq$ `err` où dès que $k\\geq$ `maxiter`. Cette fonction retournera le point $x$ trouvé, un vecteur contenant la suite  $f(x^{(k)})$ et un second vecteur contenant $\\nr{\\nabla f(x^{(k)})}$. Indications:\n",
    "    - **Pour la fonction gradient_armijo, ne pas hésiter à copier-coller gradient_optimal et à faire les modifications nécessaires**\n",
    "    - **Ne stocker que l'itération courante et pas la suite des itérées**"
   ]
  },
  {
   "cell_type": "code",
   "execution_count": 41,
   "metadata": {},
   "outputs": [],
   "source": [
    "alpha = 0.3\n",
    "beta = 0.5"
   ]
  },
  {
   "cell_type": "code",
   "execution_count": 68,
   "metadata": {
    "scrolled": false
   },
   "outputs": [],
   "source": [
    "# on importe les modules numpy et pyplot\n",
    "\n",
    "import numpy as np\n",
    "import matplotlib.pyplot as plt\n",
    "# les deux commandes suivante paramètrent l'affichage des figures\n",
    "%matplotlib inline\n",
    "plt.rcParams['figure.figsize'] = [9.,6.]\n",
    "\n",
    "# les paramètres alpha et beta comportent une valeur par défaut, c'est-à-dire que \n",
    "# pas_armijo(f,x,d,m) est équivalent à pas_armijo(f,x,d,m,0.3,0.5)\n",
    "def pas_armijo(f,gradf,x,v):\n",
    "    t = 1\n",
    "    m = np.dot(gradf(x),v)\n",
    "    #print(f(x+t*v))\n",
    "    #print(\" \")\n",
    "    \n",
    "   # print(m)\n",
    "    \n",
    "    while f(x+t*v)>f(x)+alpha*t*m:\n",
    "        t = beta * t\n",
    "    return t\n",
    "    \n",
    "# la descente de gradient prend en argument:\n",
    "# f = la fonction à évaluer\n",
    "# gradf = le gradient de f\n",
    "# x0 = le point de départ\n",
    "def gradient_armijo(f,gradf,x0,err=1e-6,maxiter=1000):\n",
    "    # ne pas hésiter à copier-coller et adapter gradient_optimal...\n",
    "    x = x0\n",
    "    niter=0\n",
    "    E = []\n",
    "    F = []\n",
    "    \n",
    "    k = 0 # nombre d'itérations\n",
    "    while (True): \n",
    "        k = k+1\n",
    "        if k > 1e6: # maximum de 10^6 itérations\n",
    "            print('erreur: nombre maximum d\\'itérations atteint')\n",
    "            break\n",
    "        # calculer la direction de descente\n",
    "        d = -gradf(x)\n",
    "        F.append(np.linalg.norm(gradf(x)))\n",
    "        E.append(f(x))\n",
    "        # vérifier le critère d'arrêt, et quitter la boucle (avec break) s'il est vérifié\n",
    "        if np.linalg.norm(d) <= err:\n",
    "            break\n",
    "        # calculer le pas de descente et mettre à jour x\n",
    "        t = pas_armijo(f,gradf,x,d)\n",
    "        x = x + t*d\n",
    "    E = np.array(E)\n",
    "    F = np.array(F)\n",
    "    return x,E,F\n"
   ]
  },
  {
   "cell_type": "code",
   "execution_count": 69,
   "metadata": {},
   "outputs": [],
   "source": [
    "def f(x):\n",
    "    return x**2 + np.exp(x)\n",
    "\n",
    "def gradf(x):\n",
    "    return 2*x + np.exp(x)"
   ]
  },
  {
   "cell_type": "markdown",
   "metadata": {
    "deletable": false
   },
   "source": [
    "**QI.2**) Tester la fonction `gradient_armijo` en dimension $N=1$, $f(x) = x^{2} + e^{x}$, $x_0 = 1$ et en prenant pour critère d'arrêt `err`$= 10^{-8}$. Vous devriez trouver $x^* = -0.3517...$. "
   ]
  },
  {
   "cell_type": "code",
   "execution_count": 70,
   "metadata": {
    "scrolled": true
   },
   "outputs": [
    {
     "data": {
      "text/plain": [
       "(-0.3517337147878348,\n",
       " array([3.71828183, 0.86787462, 0.83305333, 0.82786917, 0.82727049,\n",
       "        0.82719465, 0.82718534, 0.82718419, 0.82718405, 0.82718403,\n",
       "        0.82718403, 0.82718403, 0.82718403, 0.82718403, 0.82718403,\n",
       "        0.82718403, 0.82718403, 0.82718403, 0.82718403]),\n",
       " array([4.71828183e+00, 4.76488159e-01, 1.77144731e-01, 6.09844192e-02,\n",
       "        2.16070941e-02, 7.58025446e-03, 2.66865417e-03, 9.38355303e-04,\n",
       "        3.30088325e-04, 1.16098597e-04, 4.08363587e-05, 1.43634537e-05,\n",
       "        5.05211957e-06, 1.77699969e-06, 6.25030829e-07, 2.19844397e-07,\n",
       "        7.73266876e-08, 2.71984025e-08, 9.56659507e-09]))"
      ]
     },
     "execution_count": 70,
     "metadata": {},
     "output_type": "execute_result"
    }
   ],
   "source": [
    "# test de la fonction pas_armijo\n",
    "\n",
    "gradient_armijo(f,gradf,1,err=1e-8)\n"
   ]
  },
  {
   "cell_type": "markdown",
   "metadata": {
    "deletable": false
   },
   "source": [
    "## Partie II: Régression logistique avec rebroussement d'Armijo en dimension $N=2$\n",
    "\n",
    "L'explication de la méthode est à lire dans la feuille de TD.\n",
    "On commence par construire les données $(x_a)_{a \\in A} \\subseteq \\Rsp^2$ où :\n",
    "- $A = \\{1,\\hdots,n\\} = A_0\\sqcup A_1$, $A_0 = \\{0, \\hdots, m-1,\\}$, $A_1 = \\{m, 2m-1\\}$, $n = 2m$\n",
    "- Les points $(x_a)_{a\\in A_0}$ sont tirés selon une gaussienne centrée en $(0.5,0.5)$\n",
    "- Les points $(x_a)_{a\\in A_1}$ sont tirés selon une gaussienne centrée en $(-0.5,-0.5)$.\n",
    "\n",
    "On cherche alors à construire, par optimisation de la fonction $F$, un vecteur $w\\in\\Rsp^2$ tel\n",
    "que $\\sigma(\\sca{w}{x_a}) \\simeq 0$ si $a\\in A_0$ et  $\\sigma(\\sca{w}{x_a})\\simeq 1$ si $a\\in A_1$."
   ]
  },
  {
   "cell_type": "code",
   "execution_count": 71,
   "metadata": {
    "scrolled": false
   },
   "outputs": [
    {
     "data": {
      "image/png": "[encoded data removed]",
      "text/plain": [
       "<Figure size 648x432 with 1 Axes>"
      ]
     },
     "metadata": {},
     "output_type": "display_data"
    }
   ],
   "source": [
    "m = 30\n",
    "n = 2*m\n",
    "X = np.vstack((np.hstack((-0.5+.2*np.random.randn(m,1), -0.5 + .2*np.random.randn(m,1))),\n",
    "               np.hstack((0.5+.2*np.random.randn(m,1), 0.5 + .2*np.random.randn(m,1)))))\n",
    "A0 = range(0,m)\n",
    "A1 = range(m,2*m)\n",
    "plt.plot(X[A0,0],X[A0,1],'.r',label='A0')\n",
    "plt.plot(X[A1,0],X[A1,1],'.g',label='A1')\n",
    "plt.legend()\n",
    "plt.axis('equal');"
   ]
  },
  {
   "cell_type": "markdown",
   "metadata": {
    "deletable": false
   },
   "source": [
    "**QII.1**: Écrire deux fonctions `F(w,X,A0,A1,gamma)` et `gradF(w,X,A0,A1,\\gamma)` calculant la valeur et le gradient de la fonctionnelle \n",
    "\n",
    "$$ F(w) = - \\left(\\sum_{a\\in A_0} \\log(1-\\sigma(\\sca{w}{x_a})) + \\sum_{a\\in A_1} \\log(\\sigma(\\sca{w}{x_a})\\right) + \\frac{\\gamma}{2} \\nr{w}^2. $$\n",
    "\n",
    "Tester que `gradF` correspond bien au gradient de `F` en utilisant la fonction `verifier_gradient` fournie ci-dessous."
   ]
  },
  {
   "cell_type": "code",
   "execution_count": 72,
   "metadata": {
    "scrolled": false
   },
   "outputs": [
    {
     "name": "stdout",
     "output_type": "stream",
     "text": [
      "erreur numérique dans le calcul du gradient: 7.34563e-10 (doit être petit)\n"
     ]
    }
   ],
   "source": [
    "# on définit une fonction sigma(t) correspondant à la sigmoïde\n",
    "def sigma(t):\n",
    "    return np.exp(t)/(1+np.exp(t))\n",
    "\n",
    "def F(w,X,A0,A1,gamma):\n",
    "    rep = 0\n",
    "    #int i = 0\n",
    "    for i in A0:\n",
    "        rep -=np.log(1-sigma(np.dot(w,X[i])))\n",
    "    for i in A1:\n",
    "        rep -= np.log(sigma(np.dot(w,X[i])))\n",
    "        \n",
    "    rep += gamma *0.5*(np.linalg.norm(w)**2)\n",
    "    \n",
    "    return rep\n",
    "    \n",
    "def gradF(w,X,A0,A1,gamma):\n",
    "    rep = 0\n",
    "    for i in A0:\n",
    "        rep += sigma(np.dot(w,X[i])) * X[i]\n",
    "    for i in A1:\n",
    "        rep += (sigma((np.dot(w,X[i]))) -1) * X[i]\n",
    "        \n",
    "    rep += gamma * w\n",
    "    \n",
    "    return rep\n",
    "\n",
    "\"\"\" la fonction verifier_gradient calcule le gradient de f en un point x0 de deux manières:\n",
    "    1) via la fonction gradf donnée en argument \n",
    "    2) via des différences finies: df/de_i (x_0) ~= (f(x_0+eps e_i) - f(x_0))/eps\n",
    "    et compare ces deux résultats: si la fonction gradf est correctement programmée, la différence\n",
    "    entre les deux méthode de calcul devrait être petite \"\"\"\n",
    "def verifier_gradient(f,gradf,x0):\n",
    "    N = len(x0)\n",
    "    gg = np.zeros(N)\n",
    "    for i in range(N):\n",
    "        eps = 1e-5\n",
    "        e = np.zeros(N)\n",
    "        e[i] = eps\n",
    "        gg[i] = (f(x0+e) - f(x0-e))/(2*eps)\n",
    "    print('erreur numérique dans le calcul du gradient: %g (doit être petit)' % np.linalg.norm(gradf(x0)-gg))\n",
    "    \n",
    "# on vérifie l'implémentation de gradF en utilisant la fonction verifier_gradient\n",
    "gamma = .1\n",
    "f = lambda w: F(w,X,A0,A1,gamma)\n",
    "#def f(w):\n",
    "#    return F(w,X,A0,A1,gamma)\n",
    "gradf = lambda w: gradF(w,X,A0,A1,gamma)\n",
    "verifier_gradient(f, gradf, np.random.rand(2))"
   ]
  },
  {
   "cell_type": "markdown",
   "metadata": {
    "deletable": false
   },
   "source": [
    "**QI.2**: Calculer $w=\\arg\\min_{\\Rsp^2} F$ en utilisant la fonction gradient_armijo. Tracer sur un graphe l'évolution de la norme du gradient au cours des itérations de la descente de gradient, soit $(k,\\nr{\\nabla F(w^{(k)})})$, où l'axe $y$ sera en échelle logarithmique."
   ]
  },
  {
   "cell_type": "code",
   "execution_count": 73,
   "metadata": {
    "scrolled": false
   },
   "outputs": [
    {
     "data": {
      "text/plain": [
       "[<matplotlib.lines.Line2D at 0x7fa5979f96a0>]"
      ]
     },
     "execution_count": 73,
     "metadata": {},
     "output_type": "execute_result"
    },
    {
     "data": {
      "image/png": "[encoded data removed]",
      "text/plain": [
       "<Figure size 648x432 with 1 Axes>"
      ]
     },
     "metadata": {},
     "output_type": "display_data"
    }
   ],
   "source": [
    "w0 = np.zeros(2)\n",
    "gamma = 0.01\n",
    "w,giter,fiter = gradient_armijo(f,gradf,w0,err=1e-7,maxiter = 1000)\n",
    "plt.semilogy(giter)"
   ]
  },
  {
   "cell_type": "markdown",
   "metadata": {
    "deletable": false
   },
   "source": [
    "**QI.3**: Soit $w$ le minimiseur approché de $F$ calculé dans la question précédente. Tracer sur un graphe:\n",
    "- les points $(x_a)_{a\\in A_0}$ en rouge\n",
    "- les points $(x_a)_{a\\in A_1}$ en bleu\n",
    "- quelques lignes de niveau de la fonction $u:x\\mapsto \\sigma(\\sca{w}{x})$ en utilisant la fonction fournie `afficher_lignes_niveau(w)`.\n",
    "\n",
    "Faire varier le paramètre de régularisation $\\gamma \\in \\{0.01,0.1,1,10\\}$ et observer:\n",
    "- comment varie le nombre d'itérations.\n",
    "- comment varie $\\nr{w}$ (où $\\nr{w}$ est le minimiseur).\n",
    "- quel est l'effet sur la fonction $u:x\\mapsto \\sigma(\\sca{w}{x_i})$.\n",
    "\n",
    "<!--\n",
    "%On peut expliquer le premier point en se rappelant que\n",
    "%Si on note $F_\\gamma$ la fonction avec le paramètre $\\gamma$, montrer que pour $\\gamma' \\geq \\gamma$ on a \n",
    "%$$ \\forall w\\in\\Rsp^d,\\forall v\\in \\Rsp^d, \\sca{D^2 F_\\gamma(w)v}{v} \\leq \\sca{D^2 F_{\\gamma'}(w)v}{v} $$\n",
    "%En déduire que si $m \\leq \\D^2 F_\\gamma \\leq M$ sur $S\\subseteq \\Rsp^d$, alors \n",
    "%$$ m+(\\gamma'-\\gamma) \\leq \\D^2 F_\\gamma \\leq M + \\gamma'-\\gamma $$\n",
    "%, en notant $\\lambda_1(A) < \\hdots \\leq \\lambda_d(A)$ les valeurs propres de $A$,\n",
    "%$$ \\frac{\\lambda_d(A')}{\\lambda_1(A')} \\leq \\frac{\\lambda_d(A)}{\\lambda_1(A)} $$\n",
    "$$\n",
    "-->"
   ]
  },
  {
   "cell_type": "code",
   "execution_count": 74,
   "metadata": {
    "scrolled": true
   },
   "outputs": [],
   "source": [
    "# on définit une fonction permettant d'afficher les lignes de niveaux de u_w: R^2 -> R\n",
    "# definie par u_w(x) = \\sigma(<x|w>)\n",
    "# NB: u peut être définie en utilisant lambda, par exemple:\n",
    "#    u = lambda (x,y): ... où x,y sont les coordonnées du point\n",
    "def afficher_lignes_niveau(w):\n",
    "    Xcontour,Ycontour = np.meshgrid(np.linspace(-1., 1., 100),\n",
    "                                    np.linspace(-1., 1., 100))\n",
    "    u = lambda x,y: sigma(x*w[0] + y*w[1])\n",
    "    Zcontour = u(Xcontour,Ycontour)\n",
    "    plt.axes([-1.5, -1.5, 1.5, 1.5])\n",
    "    plt.axis('equal')\n",
    "    p = plt.contour(Xcontour, Ycontour, Zcontour, cmap='RdBu')\n",
    "    plt.clabel(p, inline=1, fontsize=10)\n",
    "    \n",
    "# <completer>\n",
    "\n"
   ]
  },
  {
   "cell_type": "markdown",
   "metadata": {
    "deletable": false
   },
   "source": [
    "## Partie III: Régression logistique avec méthode de Newton en dimension $N=2$\n",
    "\n",
    "**QIII.1**: Écrire une fonction `hessF` calculant la hessienne de $F$, en utilisant la formule obtenue en TD. Vérifier le bon fonctionnement de `hessF` via la fonction `verifier_hessienne` fournie ci-dessous."
   ]
  },
  {
   "cell_type": "code",
   "execution_count": 7,
   "metadata": {
    "scrolled": false
   },
   "outputs": [],
   "source": [
    "\"\"\" cette fonction vérifie numériquement que hessf (=fonction évaluant la hessienne de f) est bien\n",
    "    la dérivée de grad (= fonction évaluant le gradient de f), en un point x0 \"\"\"\n",
    "def verifier_hessienne(gradf,hessf,x0):\n",
    "    N = len(x0)\n",
    "    H = np.zeros((N,N))\n",
    "    for i in range(N):\n",
    "        eps = 1e-5\n",
    "        e = np.zeros(N)\n",
    "        e[i] = eps\n",
    "        H[i,:] = (gradf(x0+e) - gradf(x0-e))/(2*eps)\n",
    "    print('erreur numerique dans le calcul de la hessienne: %g (doit etre petit)' % np.sum((H-hessf(x0)))**2)\n",
    "    \n",
    "def hessF(w,X,A0,A1,K):\n",
    "    rep = 0\n",
    "    for i in A0:\n",
    "        rep += sigma(np.dot(w,X[i])) * X[i]\n",
    "    for i in A1:\n",
    "        rep += (sigma((np.dot(w,X[i]))) -1) * X[i]\n",
    "        \n",
    "    rep += gamma * w\n",
    "    \n",
    "    return rep\n",
    "    \n",
    "\n",
    "# on vérifie que la hessienne est correcte en utilisant la fonction verifier_hessienne\n",
    "# <completer>\n"
   ]
  },
  {
   "cell_type": "markdown",
   "metadata": {
    "deletable": false
   },
   "source": [
    "**QIII.2**: Écrire une fonction `newton_armijo(f,gradf,hessf,x0,err=1e-6,maxiter=1000)` implémentant la méthode de Newton avec rebroussement d'Armijo, c'est-à-dire l'algorithme suivant:\n",
    "\n",
    "$$\n",
    "\\begin{cases}\n",
    "g^{(k)} = \\nabla F(x^{(k)}) \\\\\n",
    "d^{(k)} = -[D^2 F(x^{(k)})]^{-1} \\nabla F(x^{(k)}) \\\\\n",
    "t^{(k)} = \\mathrm{pas\\_armijo}(f,x^{(k)},d^{(k)})\\\\\n",
    "x^{(k+1)} = x^{(k)} + t^{(k)} d^{(k)}\n",
    "\\end{cases}\n",
    "$$\n",
    "\n",
    "Il ne faut pas hésiter à copier-coller la fonction gradient_armijo et à changer ce qui est nécessaire. Pour la résolution du système linéaire, on utilisera `np.linalg.solve`. \n",
    "\n",
    "Utiliser cette fonction pour calculer le minimum de $F$. Comme dans la question Q1.2, tracer la norme du gradient en fonction de l'itération. Vérifier également que le nombre d'itérations dépend peu du choix du paramètre $\\gamma$."
   ]
  },
  {
   "cell_type": "code",
   "execution_count": 8,
   "metadata": {
    "scrolled": false
   },
   "outputs": [],
   "source": [
    "def newton_armijo(f,gradf,hessf,x0,err=1e-6,maxiter=500):\n",
    "    # la boucle est tres similaire à celle de gradient_armijo: la seule chose qui\n",
    "    # change est le choix de la direction de descente. \n",
    "    # NB: on utilise np.linalg.solve pour résoudre le système linéaire apparaissant dans la méthode\n",
    "    # <completer>\n",
    "\n",
    "\n",
    "# comparer le nombre d'iterations dans la methode de Newton pour gamma dans [0.01,0.1,1,5]\n",
    "# <completer>\n"
   ]
  },
  {
   "cell_type": "markdown",
   "metadata": {
    "deletable": false
   },
   "source": [
    "## Partie IV: Application à la classification de caractères manuscrits\n",
    "\n",
    "L'objectif de cette partie est d'appliquer la méthode décrite dans les parties précédentes (où l'on traitait des données en dimension $N=2$) à un jeu de données plus réaliste et de dimension beaucoup plus grande. L'objectif est de distinguer des images de caractères manuscrits. Pour cela, on a demandé à 6000 personnes d'écrire les chiffres de zéro à neuf. Ici, l'on cherchera uniqument à distinguer les chiffres zéro manuscrits des chiffres un. Chaque point de donnée $x_a$ est construit de la manière suivante: \n",
    "\n",
    "- On demande à une personne d'écrire un chiffre (zéro, un, ..., neuf), que l'on stocke sous la forme d'une image en niveaux de gris de taille 28x28 pixels. On représente cette image par une matrice carrée $p_a \\in \\mathcal{M}_{28,28}(\\Rsp)$ (où $(p_{a})_{ij} = 0$ si le pixel $(i,j)$ est noir et $1$ s'il est blanc). \n",
    "- La matrice carrée $p_a \\in \\mathcal{M}_{28,28}(\\Rsp)$ est convertie en un vecteur $x_a\\in\\Rsp^{N}$ de taille $N = 28\\times 28 = 784$. Pour cela, on met bout-à-bout les lignes de la matrice $p$, via la fonction `np.reshape`.\n",
    "- Enfin, on stocke séparément un entier correspondant au chiffre manuscrit (on appelle ça le \"label\", ou étiquette, de l'image).\n",
    "\n",
    "Ce faisant, on obtient donc deux tableaux: \n",
    "- `images` possède $60000$ lignes (soit $10$ chiffres zéro, un, $\\hdots$ dessinés par $6000$ personnes) et $784=28^2$  colonnes (images de $28\\times 28$ pixels stockées sous formes de vecteurs). `images[i]` correspond alors à la $i$ème image, représentée par un vecteur de $\\Rsp^{768}$.\n",
    "- `labels` possède $60000$ lignes et une seule colonne: `label[i]` contient le numéro du chiffre manuscrit représenté par l'image `images[i]`\n",
    "\n",
    "La fonction `read_mnist()` ci-dessous télécharge ces données et retourne les tableaux `images` et `labels`. On fournit une fonction d'affichage: `show_mnist(images[i])` affiche la $i$ème image."
   ]
  },
  {
   "cell_type": "code",
   "execution_count": 14,
   "metadata": {
    "scrolled": false
   },
   "outputs": [],
   "source": [
    "# import du jeu de données MNIST de Yan Lecun: 60000 chiffres manuscrits avec labels\n",
    "import os\n",
    "import struct\n",
    "import urllib\n",
    "import gzip\n",
    "import shutil\n",
    "try:\n",
    "    from urllib.request import urlretrieve\n",
    "except ImportError:\n",
    "    from urllib import urlretrieve\n",
    "\n",
    "def gunzip(iname,oname):\n",
    "    with gzip.open(iname, 'rb') as f_in:\n",
    "        with open(oname, 'wb') as f_out:\n",
    "            shutil.copyfileobj(f_in, f_out)\n",
    "def download_mnist(dest):\n",
    "    src = 'http://yann.lecun.com/exdb/mnist'\n",
    "    for f in ['train-images-idx3-ubyte', 'train-labels-idx1-ubyte']:\n",
    "        urlretrieve('%s/%s.gz' % (src,f), '%s/%s.gz' % (dest,f))\n",
    "        gunzip('%s/%s.gz' % (dest,f),'%s/%s' % (dest,f))\n",
    "def read_mnist():\n",
    "    d = os.path.expanduser('~/.m315-mnist-data')\n",
    "    if not os.path.isdir(d):\n",
    "        os.makedirs(d)\n",
    "        download_mnist(d)\n",
    "    with open('%s/train-labels-idx1-ubyte' % d, 'rb') as flbl:\n",
    "        magic, num = struct.unpack(\">II\", flbl.read(8))\n",
    "        labels = np.fromfile(flbl, dtype=np.int8)\n",
    "    with open('%s/train-images-idx3-ubyte' % d, 'rb') as fimg:\n",
    "        magic, num, rows, cols = struct.unpack(\">IIII\", fimg.read(16))\n",
    "        images = np.fromfile(fimg, dtype=np.uint8).reshape(len(labels), rows*cols)/255.\n",
    "    return images,labels\n",
    "def show_mnist(image, cmap='gray'):\n",
    "    plt.figure()\n",
    "    imgplot = plt.imshow(np.reshape(image,(28,-1)), interpolation='nearest', cmap=cmap)\n",
    "   \n",
    "images,labels = read_mnist()"
   ]
  },
  {
   "cell_type": "markdown",
   "metadata": {
    "deletable": false
   },
   "source": [
    "**QIV.0** Passer quelques minutes à jouer avec les fonctions show_mnist() et print() (afficher les labels, et aussi les vecteurs images[i]) pour comprendre le jeu de données."
   ]
  },
  {
   "cell_type": "code",
   "execution_count": 15,
   "metadata": {
    "scrolled": false
   },
   "outputs": [
    {
     "name": "stdout",
     "output_type": "stream",
     "text": [
      "(784,)\n",
      "(28, 28)\n",
      "2\n"
     ]
    },
    {
     "data": {
      "image/png": "[encoded data removed]",
      "text/plain": [
       "<matplotlib.figure.Figure at 0x7ff25ea2f7b8>"
      ]
     },
     "metadata": {},
     "output_type": "display_data"
    }
   ],
   "source": [
    "# exemple d'image: faire varier un peu i pour comprendre le jeu de données\n",
    "i = 16\n",
    "x = images[i]\n",
    "p = np.reshape(images[i],(28,28))\n",
    "show_mnist(p)\n",
    "print(x.shape)\n",
    "print(p.shape)\n",
    "print(labels[i])"
   ]
  },
  {
   "cell_type": "markdown",
   "metadata": {
    "deletable": false
   },
   "source": [
    "**QIV.1** Construire un tableau `X0` contenant $m=100$ images du chiffre zéro extraite du tableau `images`, et un tableau `X1` contenant également $m$ représentants du chiffre un également extraits de `images` (`X0` et `X1` possèderont donc $n=2m$ lignes et $784$ colonnes). Construire ensuite les données du problème d'optimisation:\n",
    "- Un tableau `X` de $n=2m$ lignes et $784$ colonnes obtenu en mettant à bout `X0` et `X1` (on pourra utiliser np.vstack). \n",
    "- Un tableau `A0` (resp. `A1`) contenant la liste des indices correspondant aux chiffres zéro (resp un)."
   ]
  },
  {
   "cell_type": "code",
   "execution_count": null,
   "metadata": {
    "scrolled": false
   },
   "outputs": [],
   "source": [
    "# <completer>\n"
   ]
  },
  {
   "cell_type": "markdown",
   "metadata": {
    "deletable": false
   },
   "source": [
    "**QIV.2** Résoudre le problème d'optimisation $\\min_{w\\in\\Rsp^d} F(w)$ pour $\\gamma=0.1$ en utilisant la méthode de Newton."
   ]
  },
  {
   "cell_type": "code",
   "execution_count": 12,
   "metadata": {
    "scrolled": false
   },
   "outputs": [],
   "source": [
    "# <completer>\n"
   ]
  },
  {
   "cell_type": "markdown",
   "metadata": {
    "deletable": false
   },
   "source": [
    "Étant donné $w^* \\in \\Rsp^{768}$ l'unique solution du problème d'optimisation, on notera $u^*: x\\mapsto\\sigma(\\sca{x}{w^*})$. Le principe de la régression logistique (cf intro du TD) est que  $u^*(x_a) \\simeq 1$ si $a \\in A_0$ (c'est-à-dire si l'image $x_a$ représente le chiffre zéro) et $u^*(x_a) \\simeq 0$ si $a\\in A_1$ (si l'image $x_a$ représente le chiffre un). Comme on a utilisé seulement une petite fraction des images pour construire $w$ (on a choisi $n=100$ images du chiffre zéro alors que la base de données en contient $6000$!), on va maintenant chercher à valider la méthode en comparant la catégorie ($0$ où $1$) devinée par la fonction $u^*$ à celle enregistrée dans le tableau `labels` sur l'ensemble des zéros et des uns manuscrits contenus dans la base de données.\n",
    "\n",
    "**QIV.3** Vérifier la pertinence de la méthode de la manière suivante :\n",
    "- Pour chaque image MNIST $x = images[i]$ représentant un $0$ où un $1$ (pour tout $i$ tel que labels[i] $\\in \\{0,1\\}$), calculer $u^*(x)$, et définir `label_devine`=0 si $u(x)< 1/2$ et `label_devine`=$1$ sinon.\n",
    "- Comparer  label_devine au véritables label (i.e. `labels[i]`).\n",
    "- Calculer enfin la proportion de cas où `label_devine=labels[i]`: ce nombre mesure la proportion de cas où la régression logistique permet de reconnaître correctement le chiffre représenté par l'image."
   ]
  },
  {
   "cell_type": "code",
   "execution_count": 108,
   "metadata": {
    "scrolled": false
   },
   "outputs": [],
   "source": [
    "# <completer>\n"
   ]
  },
  {
   "cell_type": "markdown",
   "metadata": {
    "deletable": false
   },
   "source": [
    "**QIV.4:** Afficher le vecteur $w$ sous la forme d'une image en utilisant show_mnist(). Interpréter."
   ]
  },
  {
   "cell_type": "code",
   "execution_count": 104,
   "metadata": {
    "scrolled": false
   },
   "outputs": [],
   "source": [
    "# <completer>\n"
   ]
  },
  {
   "cell_type": "markdown",
   "metadata": {
    "deletable": false
   },
   "source": [
    "**QIV.5** Adapter l'approche à la séparation des chiffres 0 de tout les autres chiffres. (on pourra prendre m=100 chiffres $0$ et $m$ chiffres de chaque autre classe, soit 1000 points de donnée au total)."
   ]
  },
  {
   "cell_type": "code",
   "execution_count": 107,
   "metadata": {
    "scrolled": false
   },
   "outputs": [],
   "source": [
    "# <completer>\n"
   ]
  }
 ],
 "metadata": {
  "celltoolbar": "None",
  "kernelspec": {
   "display_name": "Python 3",
   "language": "python",
   "name": "python3"
  },
  "language_info": {
   "codemirror_mode": {
    "name": "ipython",
    "version": 3
   },
   "file_extension": ".py",
   "mimetype": "text/x-python",
   "name": "python",
   "nbconvert_exporter": "python",
   "pygments_lexer": "ipython3",
   "version": "3.6.5"
  }
 },
 "nbformat": 4,
 "nbformat_minor": 1
}
